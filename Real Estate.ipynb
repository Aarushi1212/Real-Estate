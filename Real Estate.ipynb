{
 "cells": [
  {
   "cell_type": "markdown",
   "metadata": {},
   "source": [
    "## Real Estate Price Predictor"
   ]
  },
  {
   "cell_type": "code",
   "execution_count": 1,
   "metadata": {},
   "outputs": [],
   "source": [
    "import pandas as pd"
   ]
  },
  {
   "cell_type": "code",
   "execution_count": 2,
   "metadata": {},
   "outputs": [],
   "source": [
    "housing = pd.read_csv(\"realEstate.csv\")"
   ]
  },
  {
   "cell_type": "markdown",
   "metadata": {},
   "source": [
    "## info() displays the number of rows and columns i.e., 506 rows and 14 columns, \n",
    "## also displays if there is any null value in the data set and the data type of each column."
   ]
   
   print("info() displays the number of rows and columns and there are 506 rows and 14 columns.")
  },
  {
   "cell_type": "code",
   "execution_count": 3,
   "metadata": {},
   "outputs": [
    {
     "name": "stdout",
     "output_type": "stream",
     "text": [
      "<class 'pandas.core.frame.DataFrame'>\n",
      "RangeIndex: 506 entries, 0 to 505\n",
      "Data columns (total 14 columns):\n",
      " #   Column   Non-Null Count  Dtype  \n",
      "---  ------   --------------  -----  \n",
      " 0   CRIM     506 non-null    float64\n",
      " 1   ZN       506 non-null    float64\n",
      " 2   INDUS    506 non-null    float64\n",
      " 3   CHAS     506 non-null    int64  \n",
      " 4   NOX      506 non-null    float64\n",
      " 5   RM       501 non-null    float64\n",
      " 6   AGE      506 non-null    float64\n",
      " 7   DIS      506 non-null    float64\n",
      " 8   RAD      506 non-null    int64  \n",
      " 9   TAX      506 non-null    int64  \n",
      " 10  PTRATIO  506 non-null    float64\n",
      " 11  B        506 non-null    float64\n",
      " 12  LSTAT    506 non-null    float64\n",
      " 13  MEDV     506 non-null    float64\n",
      "dtypes: float64(11), int64(3)\n",
      "memory usage: 55.5 KB\n"
     ]
    }
   ],
   "source": [
    "housing.info()"
   ]
  },
  {
   "cell_type": "markdown",
   "metadata": {},
   "source": [
    "## head() displays the first 5 rows of the data set"
   ]
  },
  {
   "cell_type": "code",
   "execution_count": 4,
   "metadata": {},
   "outputs": [
    {
     "data": {
      "text/html": [
       "<div>\n",
       "<style scoped>\n",
       "    .dataframe tbody tr th:only-of-type {\n",
       "        vertical-align: middle;\n",
       "    }\n",
       "\n",
       "    .dataframe tbody tr th {\n",
       "        vertical-align: top;\n",
       "    }\n",
       "\n",
       "    .dataframe thead th {\n",
       "        text-align: right;\n",
       "    }\n",
       "</style>\n",
       "<table border=\"1\" class=\"dataframe\">\n",
       "  <thead>\n",
       "    <tr style=\"text-align: right;\">\n",
       "      <th></th>\n",
       "      <th>CRIM</th>\n",
       "      <th>ZN</th>\n",
       "      <th>INDUS</th>\n",
       "      <th>CHAS</th>\n",
       "      <th>NOX</th>\n",
       "      <th>RM</th>\n",
       "      <th>AGE</th>\n",
       "      <th>DIS</th>\n",
       "      <th>RAD</th>\n",
       "      <th>TAX</th>\n",
       "      <th>PTRATIO</th>\n",
       "      <th>B</th>\n",
       "      <th>LSTAT</th>\n",
       "      <th>MEDV</th>\n",
       "    </tr>\n",
       "  </thead>\n",
       "  <tbody>\n",
       "    <tr>\n",
       "      <th>0</th>\n",
       "      <td>0.00632</td>\n",
       "      <td>18.0</td>\n",
       "      <td>2.31</td>\n",
       "      <td>0</td>\n",
       "      <td>0.538</td>\n",
       "      <td>6.575</td>\n",
       "      <td>65.2</td>\n",
       "      <td>4.0900</td>\n",
       "      <td>1</td>\n",
       "      <td>296</td>\n",
       "      <td>15.3</td>\n",
       "      <td>396.90</td>\n",
       "      <td>4.98</td>\n",
       "      <td>24.0</td>\n",
       "    </tr>\n",
       "    <tr>\n",
       "      <th>1</th>\n",
       "      <td>0.02731</td>\n",
       "      <td>0.0</td>\n",
       "      <td>7.07</td>\n",
       "      <td>0</td>\n",
       "      <td>0.469</td>\n",
       "      <td>6.421</td>\n",
       "      <td>78.9</td>\n",
       "      <td>4.9671</td>\n",
       "      <td>2</td>\n",
       "      <td>242</td>\n",
       "      <td>17.8</td>\n",
       "      <td>396.90</td>\n",
       "      <td>9.14</td>\n",
       "      <td>21.6</td>\n",
       "    </tr>\n",
       "    <tr>\n",
       "      <th>2</th>\n",
       "      <td>0.02729</td>\n",
       "      <td>0.0</td>\n",
       "      <td>7.07</td>\n",
       "      <td>0</td>\n",
       "      <td>0.469</td>\n",
       "      <td>7.185</td>\n",
       "      <td>61.1</td>\n",
       "      <td>4.9671</td>\n",
       "      <td>2</td>\n",
       "      <td>242</td>\n",
       "      <td>17.8</td>\n",
       "      <td>392.83</td>\n",
       "      <td>4.03</td>\n",
       "      <td>34.7</td>\n",
       "    </tr>\n",
       "    <tr>\n",
       "      <th>3</th>\n",
       "      <td>0.03237</td>\n",
       "      <td>0.0</td>\n",
       "      <td>2.18</td>\n",
       "      <td>0</td>\n",
       "      <td>0.458</td>\n",
       "      <td>6.998</td>\n",
       "      <td>45.8</td>\n",
       "      <td>6.0622</td>\n",
       "      <td>3</td>\n",
       "      <td>222</td>\n",
       "      <td>18.7</td>\n",
       "      <td>394.63</td>\n",
       "      <td>2.94</td>\n",
       "      <td>33.4</td>\n",
       "    </tr>\n",
       "    <tr>\n",
       "      <th>4</th>\n",
       "      <td>0.06905</td>\n",
       "      <td>0.0</td>\n",
       "      <td>2.18</td>\n",
       "      <td>0</td>\n",
       "      <td>0.458</td>\n",
       "      <td>7.147</td>\n",
       "      <td>54.2</td>\n",
       "      <td>6.0622</td>\n",
       "      <td>3</td>\n",
       "      <td>222</td>\n",
       "      <td>18.7</td>\n",
       "      <td>396.90</td>\n",
       "      <td>5.33</td>\n",
       "      <td>36.2</td>\n",
       "    </tr>\n",
       "  </tbody>\n",
       "</table>\n",
       "</div>"
      ],
      "text/plain": [
       "      CRIM    ZN  INDUS  CHAS    NOX     RM   AGE     DIS  RAD  TAX  PTRATIO  \\\n",
       "0  0.00632  18.0   2.31     0  0.538  6.575  65.2  4.0900    1  296     15.3   \n",
       "1  0.02731   0.0   7.07     0  0.469  6.421  78.9  4.9671    2  242     17.8   \n",
       "2  0.02729   0.0   7.07     0  0.469  7.185  61.1  4.9671    2  242     17.8   \n",
       "3  0.03237   0.0   2.18     0  0.458  6.998  45.8  6.0622    3  222     18.7   \n",
       "4  0.06905   0.0   2.18     0  0.458  7.147  54.2  6.0622    3  222     18.7   \n",
       "\n",
       "        B  LSTAT  MEDV  \n",
       "0  396.90   4.98  24.0  \n",
       "1  396.90   9.14  21.6  \n",
       "2  392.83   4.03  34.7  \n",
       "3  394.63   2.94  33.4  \n",
       "4  396.90   5.33  36.2  "
      ]
     },
     "execution_count": 4,
     "metadata": {},
     "output_type": "execute_result"
    }
   ],
   "source": [
    "housing.head()"
   ]
  },
  {
   "cell_type": "code",
   "execution_count": 5,
   "metadata": {},
   "outputs": [
    {
     "name": "stdout",
     "output_type": "stream",
     "text": [
      "CRIM  :  per capita crime rate by town\n",
      "ZN  :  proportion of residential land zoned for lots over 25,000 sq.ft.\n",
      "INDUS  :   proportion of non-retail business acres per town\n",
      "CHAS  :  Charles River dummy variable (= 1 if tract bounds river; 0 otherwise)\n",
      "NOX  :  nitric oxides concentration (parts per 10 million)\n",
      "RM  :  average number of rooms per dwelling\n",
      "AGE  :  proportion of owner-occupied units built prior to 1940\n",
      "DIS  :  weighted distances to five Boston employment centres\n",
      "RAD  :  index of accessibility to radial highways\n",
      "TAX  :  full-value property-tax rate per $10,000\n",
      "PTRATIO  :  pupil-teacher ratio by town\n",
      "B  :   1000(Bk - 0.63)^2 where Bk is the proportion of blacks by town\n",
      "LSTAT  :  % lower status of the population\n",
      "MEDV  :  Median value of owner-occupied homes in $1000's\n"
     ]
    }
   ],
   "source": [
    "Thisdict = {\n",
    "  \"CRIM\":\"per capita crime rate by town\",\n",
    "   \"ZN\":\"proportion of residential land zoned for lots over 25,000 sq.ft.\",\n",
    "  \"INDUS\":\" proportion of non-retail business acres per town\",\n",
    "    \"CHAS\":\"Charles River dummy variable (= 1 if tract bounds river; 0 otherwise)\",\n",
    "    \"NOX\":\"nitric oxides concentration (parts per 10 million)\",\n",
    "    \"RM\":\"average number of rooms per dwelling\",\n",
    "    \"AGE\":\"proportion of owner-occupied units built prior to 1940\",\n",
    "    \"DIS\":\"weighted distances to five Boston employment centres\",\n",
    "    \"RAD\":\"index of accessibility to radial highways\",\n",
    "    \"TAX\":\"full-value property-tax rate per $10,000\",\n",
    "    \"PTRATIO\":\"pupil-teacher ratio by town\",\n",
    "    \"B\":\" 1000(Bk - 0.63)^2 where Bk is the proportion of blacks by town\",\n",
    "    \"LSTAT\":\"% lower status of the population\",\n",
    "    \"MEDV\":\"Median value of owner-occupied homes in $1000's\"\n",
    "}\n",
    "for key, value in Thisdict.items():\n",
    "    print(key, ' : ', value)\n",
    "\n"
   ]
  },
  {
   "cell_type": "markdown",
   "metadata": {},
   "source": [
    "## The following instruction displays value in each row 0 to 506 of the column 'CHAS'"
   ]
  },
  {
   "cell_type": "code",
   "execution_count": 6,
   "metadata": {},
   "outputs": [
    {
     "data": {
      "text/plain": [
       "0      0\n",
       "1      0\n",
       "2      0\n",
       "3      0\n",
       "4      0\n",
       "      ..\n",
       "501    0\n",
       "502    0\n",
       "503    0\n",
       "504    0\n",
       "505    0\n",
       "Name: CHAS, Length: 506, dtype: int64"
      ]
     },
     "execution_count": 6,
     "metadata": {},
     "output_type": "execute_result"
    }
   ],
   "source": [
    " housing['CHAS']"
   ]
  },
  {
   "cell_type": "markdown",
   "metadata": {},
   "source": [
    "## Following instruction displays the number of rows that contains the value as 0 and number of rows that contains the value as 1 in the column CHAS"
   ]
  },
  {
   "cell_type": "code",
   "execution_count": 7,
   "metadata": {},
   "outputs": [
    {
     "data": {
      "text/plain": [
       "0    471\n",
       "1     35\n",
       "Name: CHAS, dtype: int64"
      ]
     },
     "execution_count": 7,
     "metadata": {},
     "output_type": "execute_result"
    }
   ],
   "source": [
    "housing['CHAS'].value_counts()"
   ]
  },
  {
   "cell_type": "code",
   "execution_count": 8,
   "metadata": {},
   "outputs": [
    {
     "data": {
      "text/plain": [
       "14.33370    2\n",
       "0.01501     2\n",
       "0.08265     1\n",
       "1.35472     1\n",
       "0.03615     1\n",
       "           ..\n",
       "0.11460     1\n",
       "0.03237     1\n",
       "5.82115     1\n",
       "0.02187     1\n",
       "0.03578     1\n",
       "Name: CRIM, Length: 504, dtype: int64"
      ]
     },
     "execution_count": 8,
     "metadata": {},
     "output_type": "execute_result"
    }
   ],
   "source": [
    "housing['CRIM'].value_counts()"
   ]
  },
  {
   "cell_type": "markdown",
   "metadata": {},
   "source": [
    "## Following instruction displays the count, mean, std deviation , minimum value, maximum value of each column also shows that 25% of the values are less than the value displayed for the particular column"
   ]
  },
  {
   "cell_type": "code",
   "execution_count": 9,
   "metadata": {
    "scrolled": false
   },
   "outputs": [
    {
     "data": {
      "text/html": [
       "<div>\n",
       "<style scoped>\n",
       "    .dataframe tbody tr th:only-of-type {\n",
       "        vertical-align: middle;\n",
       "    }\n",
       "\n",
       "    .dataframe tbody tr th {\n",
       "        vertical-align: top;\n",
       "    }\n",
       "\n",
       "    .dataframe thead th {\n",
       "        text-align: right;\n",
       "    }\n",
       "</style>\n",
       "<table border=\"1\" class=\"dataframe\">\n",
       "  <thead>\n",
       "    <tr style=\"text-align: right;\">\n",
       "      <th></th>\n",
       "      <th>CRIM</th>\n",
       "      <th>ZN</th>\n",
       "      <th>INDUS</th>\n",
       "      <th>CHAS</th>\n",
       "      <th>NOX</th>\n",
       "      <th>RM</th>\n",
       "      <th>AGE</th>\n",
       "      <th>DIS</th>\n",
       "      <th>RAD</th>\n",
       "      <th>TAX</th>\n",
       "      <th>PTRATIO</th>\n",
       "      <th>B</th>\n",
       "      <th>LSTAT</th>\n",
       "      <th>MEDV</th>\n",
       "    </tr>\n",
       "  </thead>\n",
       "  <tbody>\n",
       "    <tr>\n",
       "      <th>count</th>\n",
       "      <td>506.000000</td>\n",
       "      <td>506.000000</td>\n",
       "      <td>506.000000</td>\n",
       "      <td>506.000000</td>\n",
       "      <td>506.000000</td>\n",
       "      <td>501.000000</td>\n",
       "      <td>506.000000</td>\n",
       "      <td>506.000000</td>\n",
       "      <td>506.000000</td>\n",
       "      <td>506.000000</td>\n",
       "      <td>506.000000</td>\n",
       "      <td>506.000000</td>\n",
       "      <td>506.000000</td>\n",
       "      <td>506.000000</td>\n",
       "    </tr>\n",
       "    <tr>\n",
       "      <th>mean</th>\n",
       "      <td>3.613524</td>\n",
       "      <td>11.363636</td>\n",
       "      <td>11.136779</td>\n",
       "      <td>0.069170</td>\n",
       "      <td>0.554695</td>\n",
       "      <td>6.280735</td>\n",
       "      <td>68.574901</td>\n",
       "      <td>3.795043</td>\n",
       "      <td>9.549407</td>\n",
       "      <td>408.237154</td>\n",
       "      <td>18.455534</td>\n",
       "      <td>356.674032</td>\n",
       "      <td>12.653063</td>\n",
       "      <td>22.532806</td>\n",
       "    </tr>\n",
       "    <tr>\n",
       "      <th>std</th>\n",
       "      <td>8.601545</td>\n",
       "      <td>23.322453</td>\n",
       "      <td>6.860353</td>\n",
       "      <td>0.253994</td>\n",
       "      <td>0.115878</td>\n",
       "      <td>0.701358</td>\n",
       "      <td>28.148861</td>\n",
       "      <td>2.105710</td>\n",
       "      <td>8.707259</td>\n",
       "      <td>168.537116</td>\n",
       "      <td>2.164946</td>\n",
       "      <td>91.294864</td>\n",
       "      <td>7.141062</td>\n",
       "      <td>9.197104</td>\n",
       "    </tr>\n",
       "    <tr>\n",
       "      <th>min</th>\n",
       "      <td>0.006320</td>\n",
       "      <td>0.000000</td>\n",
       "      <td>0.460000</td>\n",
       "      <td>0.000000</td>\n",
       "      <td>0.385000</td>\n",
       "      <td>3.561000</td>\n",
       "      <td>2.900000</td>\n",
       "      <td>1.129600</td>\n",
       "      <td>1.000000</td>\n",
       "      <td>187.000000</td>\n",
       "      <td>12.600000</td>\n",
       "      <td>0.320000</td>\n",
       "      <td>1.730000</td>\n",
       "      <td>5.000000</td>\n",
       "    </tr>\n",
       "    <tr>\n",
       "      <th>25%</th>\n",
       "      <td>0.082045</td>\n",
       "      <td>0.000000</td>\n",
       "      <td>5.190000</td>\n",
       "      <td>0.000000</td>\n",
       "      <td>0.449000</td>\n",
       "      <td>5.884000</td>\n",
       "      <td>45.025000</td>\n",
       "      <td>2.100175</td>\n",
       "      <td>4.000000</td>\n",
       "      <td>279.000000</td>\n",
       "      <td>17.400000</td>\n",
       "      <td>375.377500</td>\n",
       "      <td>6.950000</td>\n",
       "      <td>17.025000</td>\n",
       "    </tr>\n",
       "    <tr>\n",
       "      <th>50%</th>\n",
       "      <td>0.256510</td>\n",
       "      <td>0.000000</td>\n",
       "      <td>9.690000</td>\n",
       "      <td>0.000000</td>\n",
       "      <td>0.538000</td>\n",
       "      <td>6.208000</td>\n",
       "      <td>77.500000</td>\n",
       "      <td>3.207450</td>\n",
       "      <td>5.000000</td>\n",
       "      <td>330.000000</td>\n",
       "      <td>19.050000</td>\n",
       "      <td>391.440000</td>\n",
       "      <td>11.360000</td>\n",
       "      <td>21.200000</td>\n",
       "    </tr>\n",
       "    <tr>\n",
       "      <th>75%</th>\n",
       "      <td>3.677082</td>\n",
       "      <td>12.500000</td>\n",
       "      <td>18.100000</td>\n",
       "      <td>0.000000</td>\n",
       "      <td>0.624000</td>\n",
       "      <td>6.619000</td>\n",
       "      <td>94.075000</td>\n",
       "      <td>5.188425</td>\n",
       "      <td>24.000000</td>\n",
       "      <td>666.000000</td>\n",
       "      <td>20.200000</td>\n",
       "      <td>396.225000</td>\n",
       "      <td>16.955000</td>\n",
       "      <td>25.000000</td>\n",
       "    </tr>\n",
       "    <tr>\n",
       "      <th>max</th>\n",
       "      <td>88.976200</td>\n",
       "      <td>100.000000</td>\n",
       "      <td>27.740000</td>\n",
       "      <td>1.000000</td>\n",
       "      <td>0.871000</td>\n",
       "      <td>8.780000</td>\n",
       "      <td>100.000000</td>\n",
       "      <td>12.126500</td>\n",
       "      <td>24.000000</td>\n",
       "      <td>711.000000</td>\n",
       "      <td>22.000000</td>\n",
       "      <td>396.900000</td>\n",
       "      <td>37.970000</td>\n",
       "      <td>50.000000</td>\n",
       "    </tr>\n",
       "  </tbody>\n",
       "</table>\n",
       "</div>"
      ],
      "text/plain": [
       "             CRIM          ZN       INDUS        CHAS         NOX          RM  \\\n",
       "count  506.000000  506.000000  506.000000  506.000000  506.000000  501.000000   \n",
       "mean     3.613524   11.363636   11.136779    0.069170    0.554695    6.280735   \n",
       "std      8.601545   23.322453    6.860353    0.253994    0.115878    0.701358   \n",
       "min      0.006320    0.000000    0.460000    0.000000    0.385000    3.561000   \n",
       "25%      0.082045    0.000000    5.190000    0.000000    0.449000    5.884000   \n",
       "50%      0.256510    0.000000    9.690000    0.000000    0.538000    6.208000   \n",
       "75%      3.677082   12.500000   18.100000    0.000000    0.624000    6.619000   \n",
       "max     88.976200  100.000000   27.740000    1.000000    0.871000    8.780000   \n",
       "\n",
       "              AGE         DIS         RAD         TAX     PTRATIO           B  \\\n",
       "count  506.000000  506.000000  506.000000  506.000000  506.000000  506.000000   \n",
       "mean    68.574901    3.795043    9.549407  408.237154   18.455534  356.674032   \n",
       "std     28.148861    2.105710    8.707259  168.537116    2.164946   91.294864   \n",
       "min      2.900000    1.129600    1.000000  187.000000   12.600000    0.320000   \n",
       "25%     45.025000    2.100175    4.000000  279.000000   17.400000  375.377500   \n",
       "50%     77.500000    3.207450    5.000000  330.000000   19.050000  391.440000   \n",
       "75%     94.075000    5.188425   24.000000  666.000000   20.200000  396.225000   \n",
       "max    100.000000   12.126500   24.000000  711.000000   22.000000  396.900000   \n",
       "\n",
       "            LSTAT        MEDV  \n",
       "count  506.000000  506.000000  \n",
       "mean    12.653063   22.532806  \n",
       "std      7.141062    9.197104  \n",
       "min      1.730000    5.000000  \n",
       "25%      6.950000   17.025000  \n",
       "50%     11.360000   21.200000  \n",
       "75%     16.955000   25.000000  \n",
       "max     37.970000   50.000000  "
      ]
     },
     "execution_count": 9,
     "metadata": {},
     "output_type": "execute_result"
    }
   ],
   "source": [
    "housing.describe()"
   ]
  },
  {
   "cell_type": "code",
   "execution_count": 10,
   "metadata": {},
   "outputs": [],
   "source": [
    "import matplotlib.pyplot as plt\n",
    "%matplotlib inline"
   ]
  },
  {
   "cell_type": "markdown",
   "metadata": {},
   "source": [
    "## Following instruction displays the frequency of values in each column"
   ]
  },
  {
   "cell_type": "code",
   "execution_count": 11,
   "metadata": {},
   "outputs": [
    {
     "data": {
      "text/plain": [
       "array([[<matplotlib.axes._subplots.AxesSubplot object at 0x00000197B907A148>,\n",
       "        <matplotlib.axes._subplots.AxesSubplot object at 0x00000197BBD44688>,\n",
       "        <matplotlib.axes._subplots.AxesSubplot object at 0x00000197BBD7F608>,\n",
       "        <matplotlib.axes._subplots.AxesSubplot object at 0x00000197BBDB7708>],\n",
       "       [<matplotlib.axes._subplots.AxesSubplot object at 0x00000197BBDEF848>,\n",
       "        <matplotlib.axes._subplots.AxesSubplot object at 0x00000197BBE268C8>,\n",
       "        <matplotlib.axes._subplots.AxesSubplot object at 0x00000197BBE5F9C8>,\n",
       "        <matplotlib.axes._subplots.AxesSubplot object at 0x00000197BBE96B08>],\n",
       "       [<matplotlib.axes._subplots.AxesSubplot object at 0x00000197BBEA0BC8>,\n",
       "        <matplotlib.axes._subplots.AxesSubplot object at 0x00000197BBED7D88>,\n",
       "        <matplotlib.axes._subplots.AxesSubplot object at 0x00000197BBF3EE08>,\n",
       "        <matplotlib.axes._subplots.AxesSubplot object at 0x00000197BBF74F08>],\n",
       "       [<matplotlib.axes._subplots.AxesSubplot object at 0x00000197BBFB4048>,\n",
       "        <matplotlib.axes._subplots.AxesSubplot object at 0x00000197BBFF2E88>,\n",
       "        <matplotlib.axes._subplots.AxesSubplot object at 0x00000197BC0242C8>,\n",
       "        <matplotlib.axes._subplots.AxesSubplot object at 0x00000197BC05D3C8>]],\n",
       "      dtype=object)"
      ]
     },
     "execution_count": 11,
     "metadata": {},
     "output_type": "execute_result"
    },
    {
     "data": {
      "image/png": "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\n",
      "text/plain": [
       "<Figure size 1440x1080 with 16 Axes>"
      ]
     },
     "metadata": {
      "needs_background": "light"
     },
     "output_type": "display_data"
    }
   ],
   "source": [
    "housing.hist(bins=50, figsize=(20, 15))"
   ]
  },
  {
   "cell_type": "markdown",
   "metadata": {},
   "source": [
    "## Train- Test Splitting"
   ]
  },
  {
   "cell_type": "code",
   "execution_count": 12,
   "metadata": {},
   "outputs": [],
   "source": [
    "import numpy as np"
   ]
  },
  {
   "cell_type": "code",
   "execution_count": 13,
   "metadata": {},
   "outputs": [],
   "source": [
    "# For Learning purpose\n",
    "def split_train_test(data, test_ratio):\n",
    "    np.random.seed(42)\n",
    "    shuffled = np.random.permutation(len(data))\n",
    "    #print(shuffled)\n",
    "    test_set_size = int(len(data) * test_ratio)\n",
    "    test_indices = shuffled[:test_set_size]\n",
    "    train_indices = shuffled[test_set_size:]\n",
    "    return data.iloc[train_indices], data.iloc[test_indices]\n",
    "    \n",
    "\n",
    "    "
   ]
  },
  {
   "cell_type": "markdown",
   "metadata": {},
   "source": [
    "## np.random.permutation randomly selects the data points from the data set, which we do not want as all the data points can be visible to our model and the model will try to over fit. This is why we use np.random.seed(42)"
   ]
  },
  {
   "cell_type": "code",
   "execution_count": 14,
   "metadata": {},
   "outputs": [
    {
     "name": "stdout",
     "output_type": "stream",
     "text": [
      "Rows in train set: 405\n",
      "Rows test set:101\n",
      "\n"
     ]
    }
   ],
   "source": [
    "train_set,test_set = split_train_test(housing, 0.2)\n",
    "print(f\"Rows in train set: {len(train_set)}\\nRows test set:{len(test_set)}\\n\")"
   ]
  },
  {
   "cell_type": "markdown",
   "metadata": {},
   "source": [
    "## Splitting training and testing set using scikit learn library."
   ]
  },
  {
   "cell_type": "code",
   "execution_count": 15,
   "metadata": {},
   "outputs": [
    {
     "name": "stdout",
     "output_type": "stream",
     "text": [
      "Rows in train set: 404\n",
      "Rows test set:102\n",
      "\n"
     ]
    }
   ],
   "source": [
    "from sklearn.model_selection import train_test_split\n",
    "train_set, test_set = train_test_split(housing, test_size=0.2, random_state = 42)\n",
    "print(f\"Rows in train set: {len(train_set)}\\nRows test set:{len(test_set)}\\n\")"
   ]
  },
  {
   "cell_type": "markdown",
   "metadata": {},
   "source": [
    "## StratifiedShuffleSplit is used so that all kinds of values in a column are shared in both training and testing sets."
   ]
  },
  {
   "cell_type": "code",
   "execution_count": 16,
   "metadata": {},
   "outputs": [],
   "source": [
    "from sklearn.model_selection import StratifiedShuffleSplit\n",
    "split = StratifiedShuffleSplit(n_splits=1, test_size=0.2, random_state=42)\n",
    "for train_index, test_index in split.split(housing, housing['CHAS']):\n",
    "    strat_train_set=housing.loc[train_index]\n",
    "    strat_test_set = housing.loc[test_index]\n",
    "    \n"
   ]
  },
  {
   "cell_type": "markdown",
   "metadata": {},
   "source": [
    "## Following is the training set"
   ]
  },
  {
   "cell_type": "code",
   "execution_count": 17,
   "metadata": {},
   "outputs": [
    {
     "data": {
      "text/html": [
       "<div>\n",
       "<style scoped>\n",
       "    .dataframe tbody tr th:only-of-type {\n",
       "        vertical-align: middle;\n",
       "    }\n",
       "\n",
       "    .dataframe tbody tr th {\n",
       "        vertical-align: top;\n",
       "    }\n",
       "\n",
       "    .dataframe thead th {\n",
       "        text-align: right;\n",
       "    }\n",
       "</style>\n",
       "<table border=\"1\" class=\"dataframe\">\n",
       "  <thead>\n",
       "    <tr style=\"text-align: right;\">\n",
       "      <th></th>\n",
       "      <th>CRIM</th>\n",
       "      <th>ZN</th>\n",
       "      <th>INDUS</th>\n",
       "      <th>CHAS</th>\n",
       "      <th>NOX</th>\n",
       "      <th>RM</th>\n",
       "      <th>AGE</th>\n",
       "      <th>DIS</th>\n",
       "      <th>RAD</th>\n",
       "      <th>TAX</th>\n",
       "      <th>PTRATIO</th>\n",
       "      <th>B</th>\n",
       "      <th>LSTAT</th>\n",
       "      <th>MEDV</th>\n",
       "    </tr>\n",
       "  </thead>\n",
       "  <tbody>\n",
       "    <tr>\n",
       "      <th>254</th>\n",
       "      <td>0.04819</td>\n",
       "      <td>80.0</td>\n",
       "      <td>3.64</td>\n",
       "      <td>0</td>\n",
       "      <td>0.392</td>\n",
       "      <td>6.108</td>\n",
       "      <td>32.0</td>\n",
       "      <td>9.2203</td>\n",
       "      <td>1</td>\n",
       "      <td>315</td>\n",
       "      <td>16.4</td>\n",
       "      <td>392.89</td>\n",
       "      <td>6.57</td>\n",
       "      <td>21.9</td>\n",
       "    </tr>\n",
       "    <tr>\n",
       "      <th>348</th>\n",
       "      <td>0.01501</td>\n",
       "      <td>80.0</td>\n",
       "      <td>2.01</td>\n",
       "      <td>0</td>\n",
       "      <td>0.435</td>\n",
       "      <td>6.635</td>\n",
       "      <td>29.7</td>\n",
       "      <td>8.3440</td>\n",
       "      <td>4</td>\n",
       "      <td>280</td>\n",
       "      <td>17.0</td>\n",
       "      <td>390.94</td>\n",
       "      <td>5.99</td>\n",
       "      <td>24.5</td>\n",
       "    </tr>\n",
       "    <tr>\n",
       "      <th>476</th>\n",
       "      <td>4.87141</td>\n",
       "      <td>0.0</td>\n",
       "      <td>18.10</td>\n",
       "      <td>0</td>\n",
       "      <td>0.614</td>\n",
       "      <td>6.484</td>\n",
       "      <td>93.6</td>\n",
       "      <td>2.3053</td>\n",
       "      <td>24</td>\n",
       "      <td>666</td>\n",
       "      <td>20.2</td>\n",
       "      <td>396.21</td>\n",
       "      <td>18.68</td>\n",
       "      <td>16.7</td>\n",
       "    </tr>\n",
       "    <tr>\n",
       "      <th>321</th>\n",
       "      <td>0.18159</td>\n",
       "      <td>0.0</td>\n",
       "      <td>7.38</td>\n",
       "      <td>0</td>\n",
       "      <td>0.493</td>\n",
       "      <td>6.376</td>\n",
       "      <td>54.3</td>\n",
       "      <td>4.5404</td>\n",
       "      <td>5</td>\n",
       "      <td>287</td>\n",
       "      <td>19.6</td>\n",
       "      <td>396.90</td>\n",
       "      <td>6.87</td>\n",
       "      <td>23.1</td>\n",
       "    </tr>\n",
       "    <tr>\n",
       "      <th>326</th>\n",
       "      <td>0.30347</td>\n",
       "      <td>0.0</td>\n",
       "      <td>7.38</td>\n",
       "      <td>0</td>\n",
       "      <td>0.493</td>\n",
       "      <td>6.312</td>\n",
       "      <td>28.9</td>\n",
       "      <td>5.4159</td>\n",
       "      <td>5</td>\n",
       "      <td>287</td>\n",
       "      <td>19.6</td>\n",
       "      <td>396.90</td>\n",
       "      <td>6.15</td>\n",
       "      <td>23.0</td>\n",
       "    </tr>\n",
       "    <tr>\n",
       "      <th>...</th>\n",
       "      <td>...</td>\n",
       "      <td>...</td>\n",
       "      <td>...</td>\n",
       "      <td>...</td>\n",
       "      <td>...</td>\n",
       "      <td>...</td>\n",
       "      <td>...</td>\n",
       "      <td>...</td>\n",
       "      <td>...</td>\n",
       "      <td>...</td>\n",
       "      <td>...</td>\n",
       "      <td>...</td>\n",
       "      <td>...</td>\n",
       "      <td>...</td>\n",
       "    </tr>\n",
       "    <tr>\n",
       "      <th>155</th>\n",
       "      <td>3.53501</td>\n",
       "      <td>0.0</td>\n",
       "      <td>19.58</td>\n",
       "      <td>1</td>\n",
       "      <td>0.871</td>\n",
       "      <td>6.152</td>\n",
       "      <td>82.6</td>\n",
       "      <td>1.7455</td>\n",
       "      <td>5</td>\n",
       "      <td>403</td>\n",
       "      <td>14.7</td>\n",
       "      <td>88.01</td>\n",
       "      <td>15.02</td>\n",
       "      <td>15.6</td>\n",
       "    </tr>\n",
       "    <tr>\n",
       "      <th>423</th>\n",
       "      <td>7.05042</td>\n",
       "      <td>0.0</td>\n",
       "      <td>18.10</td>\n",
       "      <td>0</td>\n",
       "      <td>0.614</td>\n",
       "      <td>6.103</td>\n",
       "      <td>85.1</td>\n",
       "      <td>2.0218</td>\n",
       "      <td>24</td>\n",
       "      <td>666</td>\n",
       "      <td>20.2</td>\n",
       "      <td>2.52</td>\n",
       "      <td>23.29</td>\n",
       "      <td>13.4</td>\n",
       "    </tr>\n",
       "    <tr>\n",
       "      <th>98</th>\n",
       "      <td>0.08187</td>\n",
       "      <td>0.0</td>\n",
       "      <td>2.89</td>\n",
       "      <td>0</td>\n",
       "      <td>0.445</td>\n",
       "      <td>7.820</td>\n",
       "      <td>36.9</td>\n",
       "      <td>3.4952</td>\n",
       "      <td>2</td>\n",
       "      <td>276</td>\n",
       "      <td>18.0</td>\n",
       "      <td>393.53</td>\n",
       "      <td>3.57</td>\n",
       "      <td>43.8</td>\n",
       "    </tr>\n",
       "    <tr>\n",
       "      <th>455</th>\n",
       "      <td>4.75237</td>\n",
       "      <td>0.0</td>\n",
       "      <td>18.10</td>\n",
       "      <td>0</td>\n",
       "      <td>0.713</td>\n",
       "      <td>6.525</td>\n",
       "      <td>86.5</td>\n",
       "      <td>2.4358</td>\n",
       "      <td>24</td>\n",
       "      <td>666</td>\n",
       "      <td>20.2</td>\n",
       "      <td>50.92</td>\n",
       "      <td>18.13</td>\n",
       "      <td>14.1</td>\n",
       "    </tr>\n",
       "    <tr>\n",
       "      <th>216</th>\n",
       "      <td>0.04560</td>\n",
       "      <td>0.0</td>\n",
       "      <td>13.89</td>\n",
       "      <td>1</td>\n",
       "      <td>0.550</td>\n",
       "      <td>5.888</td>\n",
       "      <td>56.0</td>\n",
       "      <td>3.1121</td>\n",
       "      <td>5</td>\n",
       "      <td>276</td>\n",
       "      <td>16.4</td>\n",
       "      <td>392.80</td>\n",
       "      <td>13.51</td>\n",
       "      <td>23.3</td>\n",
       "    </tr>\n",
       "  </tbody>\n",
       "</table>\n",
       "<p>404 rows × 14 columns</p>\n",
       "</div>"
      ],
      "text/plain": [
       "        CRIM    ZN  INDUS  CHAS    NOX     RM   AGE     DIS  RAD  TAX  \\\n",
       "254  0.04819  80.0   3.64     0  0.392  6.108  32.0  9.2203    1  315   \n",
       "348  0.01501  80.0   2.01     0  0.435  6.635  29.7  8.3440    4  280   \n",
       "476  4.87141   0.0  18.10     0  0.614  6.484  93.6  2.3053   24  666   \n",
       "321  0.18159   0.0   7.38     0  0.493  6.376  54.3  4.5404    5  287   \n",
       "326  0.30347   0.0   7.38     0  0.493  6.312  28.9  5.4159    5  287   \n",
       "..       ...   ...    ...   ...    ...    ...   ...     ...  ...  ...   \n",
       "155  3.53501   0.0  19.58     1  0.871  6.152  82.6  1.7455    5  403   \n",
       "423  7.05042   0.0  18.10     0  0.614  6.103  85.1  2.0218   24  666   \n",
       "98   0.08187   0.0   2.89     0  0.445  7.820  36.9  3.4952    2  276   \n",
       "455  4.75237   0.0  18.10     0  0.713  6.525  86.5  2.4358   24  666   \n",
       "216  0.04560   0.0  13.89     1  0.550  5.888  56.0  3.1121    5  276   \n",
       "\n",
       "     PTRATIO       B  LSTAT  MEDV  \n",
       "254     16.4  392.89   6.57  21.9  \n",
       "348     17.0  390.94   5.99  24.5  \n",
       "476     20.2  396.21  18.68  16.7  \n",
       "321     19.6  396.90   6.87  23.1  \n",
       "326     19.6  396.90   6.15  23.0  \n",
       "..       ...     ...    ...   ...  \n",
       "155     14.7   88.01  15.02  15.6  \n",
       "423     20.2    2.52  23.29  13.4  \n",
       "98      18.0  393.53   3.57  43.8  \n",
       "455     20.2   50.92  18.13  14.1  \n",
       "216     16.4  392.80  13.51  23.3  \n",
       "\n",
       "[404 rows x 14 columns]"
      ]
     },
     "execution_count": 17,
     "metadata": {},
     "output_type": "execute_result"
    }
   ],
   "source": [
    "strat_train_set"
   ]
  },
  {
   "cell_type": "markdown",
   "metadata": {},
   "source": [
    "## Following are the values in testing set"
   ]
  },
  {
   "cell_type": "code",
   "execution_count": 18,
   "metadata": {},
   "outputs": [
    {
     "data": {
      "text/html": [
       "<div>\n",
       "<style scoped>\n",
       "    .dataframe tbody tr th:only-of-type {\n",
       "        vertical-align: middle;\n",
       "    }\n",
       "\n",
       "    .dataframe tbody tr th {\n",
       "        vertical-align: top;\n",
       "    }\n",
       "\n",
       "    .dataframe thead th {\n",
       "        text-align: right;\n",
       "    }\n",
       "</style>\n",
       "<table border=\"1\" class=\"dataframe\">\n",
       "  <thead>\n",
       "    <tr style=\"text-align: right;\">\n",
       "      <th></th>\n",
       "      <th>CRIM</th>\n",
       "      <th>ZN</th>\n",
       "      <th>INDUS</th>\n",
       "      <th>CHAS</th>\n",
       "      <th>NOX</th>\n",
       "      <th>RM</th>\n",
       "      <th>AGE</th>\n",
       "      <th>DIS</th>\n",
       "      <th>RAD</th>\n",
       "      <th>TAX</th>\n",
       "      <th>PTRATIO</th>\n",
       "      <th>B</th>\n",
       "      <th>LSTAT</th>\n",
       "      <th>MEDV</th>\n",
       "    </tr>\n",
       "  </thead>\n",
       "  <tbody>\n",
       "    <tr>\n",
       "      <th>342</th>\n",
       "      <td>0.02498</td>\n",
       "      <td>0.0</td>\n",
       "      <td>1.89</td>\n",
       "      <td>0</td>\n",
       "      <td>0.518</td>\n",
       "      <td>6.540</td>\n",
       "      <td>59.7</td>\n",
       "      <td>6.2669</td>\n",
       "      <td>1</td>\n",
       "      <td>422</td>\n",
       "      <td>15.9</td>\n",
       "      <td>389.96</td>\n",
       "      <td>8.65</td>\n",
       "      <td>16.5</td>\n",
       "    </tr>\n",
       "    <tr>\n",
       "      <th>379</th>\n",
       "      <td>17.86670</td>\n",
       "      <td>0.0</td>\n",
       "      <td>18.10</td>\n",
       "      <td>0</td>\n",
       "      <td>0.671</td>\n",
       "      <td>6.223</td>\n",
       "      <td>100.0</td>\n",
       "      <td>1.3861</td>\n",
       "      <td>24</td>\n",
       "      <td>666</td>\n",
       "      <td>20.2</td>\n",
       "      <td>393.74</td>\n",
       "      <td>21.78</td>\n",
       "      <td>10.2</td>\n",
       "    </tr>\n",
       "    <tr>\n",
       "      <th>223</th>\n",
       "      <td>0.61470</td>\n",
       "      <td>0.0</td>\n",
       "      <td>6.20</td>\n",
       "      <td>0</td>\n",
       "      <td>0.507</td>\n",
       "      <td>6.618</td>\n",
       "      <td>80.8</td>\n",
       "      <td>3.2721</td>\n",
       "      <td>8</td>\n",
       "      <td>307</td>\n",
       "      <td>17.4</td>\n",
       "      <td>396.90</td>\n",
       "      <td>7.60</td>\n",
       "      <td>30.1</td>\n",
       "    </tr>\n",
       "    <tr>\n",
       "      <th>219</th>\n",
       "      <td>0.11425</td>\n",
       "      <td>0.0</td>\n",
       "      <td>13.89</td>\n",
       "      <td>1</td>\n",
       "      <td>0.550</td>\n",
       "      <td>6.373</td>\n",
       "      <td>92.4</td>\n",
       "      <td>3.3633</td>\n",
       "      <td>5</td>\n",
       "      <td>276</td>\n",
       "      <td>16.4</td>\n",
       "      <td>393.74</td>\n",
       "      <td>10.50</td>\n",
       "      <td>23.0</td>\n",
       "    </tr>\n",
       "    <tr>\n",
       "      <th>48</th>\n",
       "      <td>0.25387</td>\n",
       "      <td>0.0</td>\n",
       "      <td>6.91</td>\n",
       "      <td>0</td>\n",
       "      <td>0.448</td>\n",
       "      <td>5.399</td>\n",
       "      <td>95.3</td>\n",
       "      <td>5.8700</td>\n",
       "      <td>3</td>\n",
       "      <td>233</td>\n",
       "      <td>17.9</td>\n",
       "      <td>396.90</td>\n",
       "      <td>30.81</td>\n",
       "      <td>14.4</td>\n",
       "    </tr>\n",
       "    <tr>\n",
       "      <th>...</th>\n",
       "      <td>...</td>\n",
       "      <td>...</td>\n",
       "      <td>...</td>\n",
       "      <td>...</td>\n",
       "      <td>...</td>\n",
       "      <td>...</td>\n",
       "      <td>...</td>\n",
       "      <td>...</td>\n",
       "      <td>...</td>\n",
       "      <td>...</td>\n",
       "      <td>...</td>\n",
       "      <td>...</td>\n",
       "      <td>...</td>\n",
       "      <td>...</td>\n",
       "    </tr>\n",
       "    <tr>\n",
       "      <th>88</th>\n",
       "      <td>0.05660</td>\n",
       "      <td>0.0</td>\n",
       "      <td>3.41</td>\n",
       "      <td>0</td>\n",
       "      <td>0.489</td>\n",
       "      <td>7.007</td>\n",
       "      <td>86.3</td>\n",
       "      <td>3.4217</td>\n",
       "      <td>2</td>\n",
       "      <td>270</td>\n",
       "      <td>17.8</td>\n",
       "      <td>396.90</td>\n",
       "      <td>5.50</td>\n",
       "      <td>23.6</td>\n",
       "    </tr>\n",
       "    <tr>\n",
       "      <th>466</th>\n",
       "      <td>3.77498</td>\n",
       "      <td>0.0</td>\n",
       "      <td>18.10</td>\n",
       "      <td>0</td>\n",
       "      <td>0.655</td>\n",
       "      <td>5.952</td>\n",
       "      <td>84.7</td>\n",
       "      <td>2.8715</td>\n",
       "      <td>24</td>\n",
       "      <td>666</td>\n",
       "      <td>20.2</td>\n",
       "      <td>22.01</td>\n",
       "      <td>17.15</td>\n",
       "      <td>19.0</td>\n",
       "    </tr>\n",
       "    <tr>\n",
       "      <th>52</th>\n",
       "      <td>0.05360</td>\n",
       "      <td>21.0</td>\n",
       "      <td>5.64</td>\n",
       "      <td>0</td>\n",
       "      <td>0.439</td>\n",
       "      <td>6.511</td>\n",
       "      <td>21.1</td>\n",
       "      <td>6.8147</td>\n",
       "      <td>4</td>\n",
       "      <td>243</td>\n",
       "      <td>16.8</td>\n",
       "      <td>396.90</td>\n",
       "      <td>5.28</td>\n",
       "      <td>25.0</td>\n",
       "    </tr>\n",
       "    <tr>\n",
       "      <th>121</th>\n",
       "      <td>0.07165</td>\n",
       "      <td>0.0</td>\n",
       "      <td>25.65</td>\n",
       "      <td>0</td>\n",
       "      <td>0.581</td>\n",
       "      <td>6.004</td>\n",
       "      <td>84.1</td>\n",
       "      <td>2.1974</td>\n",
       "      <td>2</td>\n",
       "      <td>188</td>\n",
       "      <td>19.1</td>\n",
       "      <td>377.67</td>\n",
       "      <td>14.27</td>\n",
       "      <td>20.3</td>\n",
       "    </tr>\n",
       "    <tr>\n",
       "      <th>218</th>\n",
       "      <td>0.11069</td>\n",
       "      <td>0.0</td>\n",
       "      <td>13.89</td>\n",
       "      <td>1</td>\n",
       "      <td>0.550</td>\n",
       "      <td>5.951</td>\n",
       "      <td>93.8</td>\n",
       "      <td>2.8893</td>\n",
       "      <td>5</td>\n",
       "      <td>276</td>\n",
       "      <td>16.4</td>\n",
       "      <td>396.90</td>\n",
       "      <td>17.92</td>\n",
       "      <td>21.5</td>\n",
       "    </tr>\n",
       "  </tbody>\n",
       "</table>\n",
       "<p>102 rows × 14 columns</p>\n",
       "</div>"
      ],
      "text/plain": [
       "         CRIM    ZN  INDUS  CHAS    NOX     RM    AGE     DIS  RAD  TAX  \\\n",
       "342   0.02498   0.0   1.89     0  0.518  6.540   59.7  6.2669    1  422   \n",
       "379  17.86670   0.0  18.10     0  0.671  6.223  100.0  1.3861   24  666   \n",
       "223   0.61470   0.0   6.20     0  0.507  6.618   80.8  3.2721    8  307   \n",
       "219   0.11425   0.0  13.89     1  0.550  6.373   92.4  3.3633    5  276   \n",
       "48    0.25387   0.0   6.91     0  0.448  5.399   95.3  5.8700    3  233   \n",
       "..        ...   ...    ...   ...    ...    ...    ...     ...  ...  ...   \n",
       "88    0.05660   0.0   3.41     0  0.489  7.007   86.3  3.4217    2  270   \n",
       "466   3.77498   0.0  18.10     0  0.655  5.952   84.7  2.8715   24  666   \n",
       "52    0.05360  21.0   5.64     0  0.439  6.511   21.1  6.8147    4  243   \n",
       "121   0.07165   0.0  25.65     0  0.581  6.004   84.1  2.1974    2  188   \n",
       "218   0.11069   0.0  13.89     1  0.550  5.951   93.8  2.8893    5  276   \n",
       "\n",
       "     PTRATIO       B  LSTAT  MEDV  \n",
       "342     15.9  389.96   8.65  16.5  \n",
       "379     20.2  393.74  21.78  10.2  \n",
       "223     17.4  396.90   7.60  30.1  \n",
       "219     16.4  393.74  10.50  23.0  \n",
       "48      17.9  396.90  30.81  14.4  \n",
       "..       ...     ...    ...   ...  \n",
       "88      17.8  396.90   5.50  23.6  \n",
       "466     20.2   22.01  17.15  19.0  \n",
       "52      16.8  396.90   5.28  25.0  \n",
       "121     19.1  377.67  14.27  20.3  \n",
       "218     16.4  396.90  17.92  21.5  \n",
       "\n",
       "[102 rows x 14 columns]"
      ]
     },
     "execution_count": 18,
     "metadata": {},
     "output_type": "execute_result"
    }
   ],
   "source": [
    "strat_test_set"
   ]
  },
  {
   "cell_type": "markdown",
   "metadata": {},
   "source": [
    "## Showing the frequency of the values 0 and 1 in the column CHAS, in training set."
   ]
  },
  {
   "cell_type": "code",
   "execution_count": 19,
   "metadata": {},
   "outputs": [
    {
     "data": {
      "text/plain": [
       "0    376\n",
       "1     28\n",
       "Name: CHAS, dtype: int64"
      ]
     },
     "execution_count": 19,
     "metadata": {},
     "output_type": "execute_result"
    }
   ],
   "source": [
    "strat_train_set['CHAS'].value_counts()"
   ]
  },
  {
   "cell_type": "markdown",
   "metadata": {},
   "source": [
    "## Showing the frequency of the values 0 and 1 in the column CHAS, in testing set."
   ]
  },
  {
   "cell_type": "code",
   "execution_count": 20,
   "metadata": {},
   "outputs": [
    {
     "data": {
      "text/plain": [
       "0    95\n",
       "1     7\n",
       "Name: CHAS, dtype: int64"
      ]
     },
     "execution_count": 20,
     "metadata": {},
     "output_type": "execute_result"
    }
   ],
   "source": [
    "strat_test_set['CHAS'].value_counts()"
   ]
  },
  {
   "cell_type": "markdown",
   "metadata": {},
   "source": [
    "## Showing the ratio of the values 0 and 1 in the column CHAS in training set."
   ]
  },
  {
   "cell_type": "code",
   "execution_count": 21,
   "metadata": {},
   "outputs": [
    {
     "data": {
      "text/plain": [
       "13.428571428571429"
      ]
     },
     "execution_count": 21,
     "metadata": {},
     "output_type": "execute_result"
    }
   ],
   "source": [
    "376/28"
   ]
  },
  {
   "cell_type": "markdown",
   "metadata": {},
   "source": [
    "## Showing the ratio of the values 0 and 1 in the column CHAS in testing set. The ratio is almost same in training set and testing set."
   ]
  },
  {
   "cell_type": "code",
   "execution_count": 22,
   "metadata": {},
   "outputs": [
    {
     "data": {
      "text/plain": [
       "13.571428571428571"
      ]
     },
     "execution_count": 22,
     "metadata": {},
     "output_type": "execute_result"
    }
   ],
   "source": [
    "95/7"
   ]
  },
  {
   "cell_type": "code",
   "execution_count": 23,
   "metadata": {},
   "outputs": [],
   "source": [
    "housing = strat_test_set.copy()"
   ]
  },
  {
   "cell_type": "markdown",
   "metadata": {},
   "source": [
    "## Looking For Correlations"
   ]
  },
  {
   "cell_type": "code",
   "execution_count": 24,
   "metadata": {},
   "outputs": [],
   "source": [
    "corr_matrix = housing.corr()"
   ]
  },
  {
   "cell_type": "markdown",
   "metadata": {},
   "source": [
    "## Following list shows the correlation of each column with label i.e., \"MEDV\". Decides whether the correlation is strong positive or negative and weak positive or negative."
   ]
  },
  {
   "cell_type": "code",
   "execution_count": 25,
   "metadata": {},
   "outputs": [
    {
     "data": {
      "text/plain": [
       "MEDV       1.000000\n",
       "RM         0.769364\n",
       "ZN         0.449562\n",
       "DIS        0.292944\n",
       "B          0.168425\n",
       "CHAS       0.043900\n",
       "CRIM      -0.388768\n",
       "RAD       -0.414798\n",
       "AGE       -0.434078\n",
       "NOX       -0.450991\n",
       "TAX       -0.525037\n",
       "INDUS     -0.534485\n",
       "PTRATIO   -0.573036\n",
       "LSTAT     -0.726741\n",
       "Name: MEDV, dtype: float64"
      ]
     },
     "execution_count": 25,
     "metadata": {},
     "output_type": "execute_result"
    }
   ],
   "source": [
    "corr_matrix['MEDV'].sort_values(ascending = False)"
   ]
  },
  {
   "cell_type": "code",
   "execution_count": 26,
   "metadata": {},
   "outputs": [
    {
     "data": {
      "text/plain": [
       "array([[<matplotlib.axes._subplots.AxesSubplot object at 0x00000197BCF1E508>,\n",
       "        <matplotlib.axes._subplots.AxesSubplot object at 0x00000197BEF51D48>,\n",
       "        <matplotlib.axes._subplots.AxesSubplot object at 0x00000197BEFF2FC8>,\n",
       "        <matplotlib.axes._subplots.AxesSubplot object at 0x00000197BF02CC08>],\n",
       "       [<matplotlib.axes._subplots.AxesSubplot object at 0x00000197BF066748>,\n",
       "        <matplotlib.axes._subplots.AxesSubplot object at 0x00000197BF09F748>,\n",
       "        <matplotlib.axes._subplots.AxesSubplot object at 0x00000197BF0D8888>,\n",
       "        <matplotlib.axes._subplots.AxesSubplot object at 0x00000197BF110948>],\n",
       "       [<matplotlib.axes._subplots.AxesSubplot object at 0x00000197BF119A08>,\n",
       "        <matplotlib.axes._subplots.AxesSubplot object at 0x00000197BF153BC8>,\n",
       "        <matplotlib.axes._subplots.AxesSubplot object at 0x00000197BF1BAC88>,\n",
       "        <matplotlib.axes._subplots.AxesSubplot object at 0x00000197BF1F2D88>],\n",
       "       [<matplotlib.axes._subplots.AxesSubplot object at 0x00000197BF22AE48>,\n",
       "        <matplotlib.axes._subplots.AxesSubplot object at 0x00000197BF263F88>,\n",
       "        <matplotlib.axes._subplots.AxesSubplot object at 0x00000197BF2A10C8>,\n",
       "        <matplotlib.axes._subplots.AxesSubplot object at 0x00000197BF2DFEC8>]],\n",
       "      dtype=object)"
      ]
     },
     "execution_count": 26,
     "metadata": {},
     "output_type": "execute_result"
    },
    {
     "data": {
      "image/png": "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\n",
      "text/plain": [
       "<Figure size 864x576 with 16 Axes>"
      ]
     },
     "metadata": {
      "needs_background": "light"
     },
     "output_type": "display_data"
    }
   ],
   "source": [
    "from pandas.plotting import scatter_matrix\n",
    "attributes = [\"MEDV\" ,\"RM\" ,\"ZN\" ,\"LSTAT\"]\n",
    "scatter_matrix(housing[attributes], figsize=(12,8))"
   ]
  },
  {
   "cell_type": "markdown",
   "metadata": {},
   "source": [
    "## Analysing one of the plots from the above plots."
   ]
  },
  {
   "cell_type": "code",
   "execution_count": 27,
   "metadata": {},
   "outputs": [
    {
     "data": {
      "text/plain": [
       "<matplotlib.axes._subplots.AxesSubplot at 0x197bf366188>"
      ]
     },
     "execution_count": 27,
     "metadata": {},
     "output_type": "execute_result"
    },
    {
     "data": {
      "image/png": "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\n",
      "text/plain": [
       "<Figure size 432x288 with 1 Axes>"
      ]
     },
     "metadata": {
      "needs_background": "light"
     },
     "output_type": "display_data"
    }
   ],
   "source": [
    "housing.plot(kind=\"scatter\",x=\"RM\",y=\"MEDV\",alpha =0.8)"
   ]
  },
  {
   "cell_type": "markdown",
   "metadata": {},
   "source": [
    "## Attribute Combinations"
   ]
  },
  {
   "cell_type": "code",
   "execution_count": 28,
   "metadata": {},
   "outputs": [],
   "source": [
    "housing[\"TAXRM\"]=housing[\"TAX\"]/housing[\"RM\"]"
   ]
  },
  {
   "cell_type": "markdown",
   "metadata": {},
   "source": [
    "## Creating another column called TAXRM that means tax per room."
   ]
  },
  {
   "cell_type": "code",
   "execution_count": 29,
   "metadata": {},
   "outputs": [
    {
     "data": {
      "text/plain": [
       "342     64.525994\n",
       "379    107.022336\n",
       "223     46.388637\n",
       "219     43.307704\n",
       "48      43.156140\n",
       "          ...    \n",
       "88      38.532896\n",
       "466    111.895161\n",
       "52      37.321456\n",
       "121     31.312458\n",
       "218     46.378760\n",
       "Name: TAXRM, Length: 102, dtype: float64"
      ]
     },
     "execution_count": 29,
     "metadata": {},
     "output_type": "execute_result"
    }
   ],
   "source": [
    "housing[\"TAXRM\"]"
   ]
  },
  {
   "cell_type": "code",
   "execution_count": 30,
   "metadata": {},
   "outputs": [
    {
     "data": {
      "text/html": [
       "<div>\n",
       "<style scoped>\n",
       "    .dataframe tbody tr th:only-of-type {\n",
       "        vertical-align: middle;\n",
       "    }\n",
       "\n",
       "    .dataframe tbody tr th {\n",
       "        vertical-align: top;\n",
       "    }\n",
       "\n",
       "    .dataframe thead th {\n",
       "        text-align: right;\n",
       "    }\n",
       "</style>\n",
       "<table border=\"1\" class=\"dataframe\">\n",
       "  <thead>\n",
       "    <tr style=\"text-align: right;\">\n",
       "      <th></th>\n",
       "      <th>CRIM</th>\n",
       "      <th>ZN</th>\n",
       "      <th>INDUS</th>\n",
       "      <th>CHAS</th>\n",
       "      <th>NOX</th>\n",
       "      <th>RM</th>\n",
       "      <th>AGE</th>\n",
       "      <th>DIS</th>\n",
       "      <th>RAD</th>\n",
       "      <th>TAX</th>\n",
       "      <th>PTRATIO</th>\n",
       "      <th>B</th>\n",
       "      <th>LSTAT</th>\n",
       "      <th>MEDV</th>\n",
       "      <th>TAXRM</th>\n",
       "    </tr>\n",
       "  </thead>\n",
       "  <tbody>\n",
       "    <tr>\n",
       "      <th>342</th>\n",
       "      <td>0.02498</td>\n",
       "      <td>0.0</td>\n",
       "      <td>1.89</td>\n",
       "      <td>0</td>\n",
       "      <td>0.518</td>\n",
       "      <td>6.540</td>\n",
       "      <td>59.7</td>\n",
       "      <td>6.2669</td>\n",
       "      <td>1</td>\n",
       "      <td>422</td>\n",
       "      <td>15.9</td>\n",
       "      <td>389.96</td>\n",
       "      <td>8.65</td>\n",
       "      <td>16.5</td>\n",
       "      <td>64.525994</td>\n",
       "    </tr>\n",
       "    <tr>\n",
       "      <th>379</th>\n",
       "      <td>17.86670</td>\n",
       "      <td>0.0</td>\n",
       "      <td>18.10</td>\n",
       "      <td>0</td>\n",
       "      <td>0.671</td>\n",
       "      <td>6.223</td>\n",
       "      <td>100.0</td>\n",
       "      <td>1.3861</td>\n",
       "      <td>24</td>\n",
       "      <td>666</td>\n",
       "      <td>20.2</td>\n",
       "      <td>393.74</td>\n",
       "      <td>21.78</td>\n",
       "      <td>10.2</td>\n",
       "      <td>107.022336</td>\n",
       "    </tr>\n",
       "    <tr>\n",
       "      <th>223</th>\n",
       "      <td>0.61470</td>\n",
       "      <td>0.0</td>\n",
       "      <td>6.20</td>\n",
       "      <td>0</td>\n",
       "      <td>0.507</td>\n",
       "      <td>6.618</td>\n",
       "      <td>80.8</td>\n",
       "      <td>3.2721</td>\n",
       "      <td>8</td>\n",
       "      <td>307</td>\n",
       "      <td>17.4</td>\n",
       "      <td>396.90</td>\n",
       "      <td>7.60</td>\n",
       "      <td>30.1</td>\n",
       "      <td>46.388637</td>\n",
       "    </tr>\n",
       "    <tr>\n",
       "      <th>219</th>\n",
       "      <td>0.11425</td>\n",
       "      <td>0.0</td>\n",
       "      <td>13.89</td>\n",
       "      <td>1</td>\n",
       "      <td>0.550</td>\n",
       "      <td>6.373</td>\n",
       "      <td>92.4</td>\n",
       "      <td>3.3633</td>\n",
       "      <td>5</td>\n",
       "      <td>276</td>\n",
       "      <td>16.4</td>\n",
       "      <td>393.74</td>\n",
       "      <td>10.50</td>\n",
       "      <td>23.0</td>\n",
       "      <td>43.307704</td>\n",
       "    </tr>\n",
       "    <tr>\n",
       "      <th>48</th>\n",
       "      <td>0.25387</td>\n",
       "      <td>0.0</td>\n",
       "      <td>6.91</td>\n",
       "      <td>0</td>\n",
       "      <td>0.448</td>\n",
       "      <td>5.399</td>\n",
       "      <td>95.3</td>\n",
       "      <td>5.8700</td>\n",
       "      <td>3</td>\n",
       "      <td>233</td>\n",
       "      <td>17.9</td>\n",
       "      <td>396.90</td>\n",
       "      <td>30.81</td>\n",
       "      <td>14.4</td>\n",
       "      <td>43.156140</td>\n",
       "    </tr>\n",
       "  </tbody>\n",
       "</table>\n",
       "</div>"
      ],
      "text/plain": [
       "         CRIM   ZN  INDUS  CHAS    NOX     RM    AGE     DIS  RAD  TAX  \\\n",
       "342   0.02498  0.0   1.89     0  0.518  6.540   59.7  6.2669    1  422   \n",
       "379  17.86670  0.0  18.10     0  0.671  6.223  100.0  1.3861   24  666   \n",
       "223   0.61470  0.0   6.20     0  0.507  6.618   80.8  3.2721    8  307   \n",
       "219   0.11425  0.0  13.89     1  0.550  6.373   92.4  3.3633    5  276   \n",
       "48    0.25387  0.0   6.91     0  0.448  5.399   95.3  5.8700    3  233   \n",
       "\n",
       "     PTRATIO       B  LSTAT  MEDV       TAXRM  \n",
       "342     15.9  389.96   8.65  16.5   64.525994  \n",
       "379     20.2  393.74  21.78  10.2  107.022336  \n",
       "223     17.4  396.90   7.60  30.1   46.388637  \n",
       "219     16.4  393.74  10.50  23.0   43.307704  \n",
       "48      17.9  396.90  30.81  14.4   43.156140  "
      ]
     },
     "execution_count": 30,
     "metadata": {},
     "output_type": "execute_result"
    }
   ],
   "source": [
    "housing.head()"
   ]
  },
  {
   "cell_type": "code",
   "execution_count": 31,
   "metadata": {},
   "outputs": [
    {
     "data": {
      "text/plain": [
       "MEDV       1.000000\n",
       "RM         0.769364\n",
       "ZN         0.449562\n",
       "DIS        0.292944\n",
       "B          0.168425\n",
       "CHAS       0.043900\n",
       "CRIM      -0.388768\n",
       "RAD       -0.414798\n",
       "AGE       -0.434078\n",
       "NOX       -0.450991\n",
       "TAX       -0.525037\n",
       "INDUS     -0.534485\n",
       "PTRATIO   -0.573036\n",
       "TAXRM     -0.597631\n",
       "LSTAT     -0.726741\n",
       "Name: MEDV, dtype: float64"
      ]
     },
     "execution_count": 31,
     "metadata": {},
     "output_type": "execute_result"
    }
   ],
   "source": [
    "corr_matrix = housing.corr()\n",
    "corr_matrix['MEDV'].sort_values(ascending = False)"
   ]
  },
  {
   "cell_type": "code",
   "execution_count": 32,
   "metadata": {},
   "outputs": [
    {
     "data": {
      "text/plain": [
       "<matplotlib.axes._subplots.AxesSubplot at 0x197bf58d388>"
      ]
     },
     "execution_count": 32,
     "metadata": {},
     "output_type": "execute_result"
    },
    {
     "data": {
      "image/png": "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\n",
      "text/plain": [
       "<Figure size 432x288 with 1 Axes>"
      ]
     },
     "metadata": {
      "needs_background": "light"
     },
     "output_type": "display_data"
    }
   ],
   "source": [
    "housing.plot(kind=\"scatter\",x=\"TAXRM\",y=\"MEDV\",alpha =0.8)"
   ]
  },
  {
   "cell_type": "code",
   "execution_count": 33,
   "metadata": {},
   "outputs": [],
   "source": [
    "housing = strat_train_set.drop(\"MEDV\", axis = 1)\n",
    "housing_labels = strat_train_set[\"MEDV\"].copy()"
   ]
  },
  {
   "cell_type": "markdown",
   "metadata": {},
   "source": [
    "## Missing Attributes"
   ]
  },
  {
   "cell_type": "code",
   "execution_count": 34,
   "metadata": {},
   "outputs": [],
   "source": [
    "#To take care of the missing attributes:\n",
    " #   1. Get rid of the missing data points.\n",
    "  #  2. Get rid of the whole attribute.\n",
    "   # 3. Set the value to some value( 0 , mean or median)."
   ]
  },
  {
   "cell_type": "markdown",
   "metadata": {},
   "source": [
    "## In case we have missing values in the column of RM, then we decide to drop the null values"
   ]
  },
  {
   "cell_type": "markdown",
   "metadata": {},
   "source": [
    "## a.shape() shows the reduced number of rows in the data set after dropping the null values."
   ]
  },
  {
   "cell_type": "code",
   "execution_count": 35,
   "metadata": {},
   "outputs": [
    {
     "data": {
      "text/plain": [
       "(399, 13)"
      ]
     },
     "execution_count": 35,
     "metadata": {},
     "output_type": "execute_result"
    }
   ],
   "source": [
    "a = housing.dropna(subset=[\"RM\"]) #option 1\n",
    "a.shape"
   ]
  },
  {
   "cell_type": "markdown",
   "metadata": {},
   "source": [
    "## Following shows the output after dropping the complete column which had null values."
   ]
  },
  {
   "cell_type": "code",
   "execution_count": 36,
   "metadata": {},
   "outputs": [
    {
     "data": {
      "text/html": [
       "<div>\n",
       "<style scoped>\n",
       "    .dataframe tbody tr th:only-of-type {\n",
       "        vertical-align: middle;\n",
       "    }\n",
       "\n",
       "    .dataframe tbody tr th {\n",
       "        vertical-align: top;\n",
       "    }\n",
       "\n",
       "    .dataframe thead th {\n",
       "        text-align: right;\n",
       "    }\n",
       "</style>\n",
       "<table border=\"1\" class=\"dataframe\">\n",
       "  <thead>\n",
       "    <tr style=\"text-align: right;\">\n",
       "      <th></th>\n",
       "      <th>CRIM</th>\n",
       "      <th>ZN</th>\n",
       "      <th>INDUS</th>\n",
       "      <th>CHAS</th>\n",
       "      <th>NOX</th>\n",
       "      <th>AGE</th>\n",
       "      <th>DIS</th>\n",
       "      <th>RAD</th>\n",
       "      <th>TAX</th>\n",
       "      <th>PTRATIO</th>\n",
       "      <th>B</th>\n",
       "      <th>LSTAT</th>\n",
       "    </tr>\n",
       "  </thead>\n",
       "  <tbody>\n",
       "    <tr>\n",
       "      <th>254</th>\n",
       "      <td>0.04819</td>\n",
       "      <td>80.0</td>\n",
       "      <td>3.64</td>\n",
       "      <td>0</td>\n",
       "      <td>0.392</td>\n",
       "      <td>32.0</td>\n",
       "      <td>9.2203</td>\n",
       "      <td>1</td>\n",
       "      <td>315</td>\n",
       "      <td>16.4</td>\n",
       "      <td>392.89</td>\n",
       "      <td>6.57</td>\n",
       "    </tr>\n",
       "    <tr>\n",
       "      <th>348</th>\n",
       "      <td>0.01501</td>\n",
       "      <td>80.0</td>\n",
       "      <td>2.01</td>\n",
       "      <td>0</td>\n",
       "      <td>0.435</td>\n",
       "      <td>29.7</td>\n",
       "      <td>8.3440</td>\n",
       "      <td>4</td>\n",
       "      <td>280</td>\n",
       "      <td>17.0</td>\n",
       "      <td>390.94</td>\n",
       "      <td>5.99</td>\n",
       "    </tr>\n",
       "    <tr>\n",
       "      <th>476</th>\n",
       "      <td>4.87141</td>\n",
       "      <td>0.0</td>\n",
       "      <td>18.10</td>\n",
       "      <td>0</td>\n",
       "      <td>0.614</td>\n",
       "      <td>93.6</td>\n",
       "      <td>2.3053</td>\n",
       "      <td>24</td>\n",
       "      <td>666</td>\n",
       "      <td>20.2</td>\n",
       "      <td>396.21</td>\n",
       "      <td>18.68</td>\n",
       "    </tr>\n",
       "    <tr>\n",
       "      <th>321</th>\n",
       "      <td>0.18159</td>\n",
       "      <td>0.0</td>\n",
       "      <td>7.38</td>\n",
       "      <td>0</td>\n",
       "      <td>0.493</td>\n",
       "      <td>54.3</td>\n",
       "      <td>4.5404</td>\n",
       "      <td>5</td>\n",
       "      <td>287</td>\n",
       "      <td>19.6</td>\n",
       "      <td>396.90</td>\n",
       "      <td>6.87</td>\n",
       "    </tr>\n",
       "    <tr>\n",
       "      <th>326</th>\n",
       "      <td>0.30347</td>\n",
       "      <td>0.0</td>\n",
       "      <td>7.38</td>\n",
       "      <td>0</td>\n",
       "      <td>0.493</td>\n",
       "      <td>28.9</td>\n",
       "      <td>5.4159</td>\n",
       "      <td>5</td>\n",
       "      <td>287</td>\n",
       "      <td>19.6</td>\n",
       "      <td>396.90</td>\n",
       "      <td>6.15</td>\n",
       "    </tr>\n",
       "    <tr>\n",
       "      <th>...</th>\n",
       "      <td>...</td>\n",
       "      <td>...</td>\n",
       "      <td>...</td>\n",
       "      <td>...</td>\n",
       "      <td>...</td>\n",
       "      <td>...</td>\n",
       "      <td>...</td>\n",
       "      <td>...</td>\n",
       "      <td>...</td>\n",
       "      <td>...</td>\n",
       "      <td>...</td>\n",
       "      <td>...</td>\n",
       "    </tr>\n",
       "    <tr>\n",
       "      <th>155</th>\n",
       "      <td>3.53501</td>\n",
       "      <td>0.0</td>\n",
       "      <td>19.58</td>\n",
       "      <td>1</td>\n",
       "      <td>0.871</td>\n",
       "      <td>82.6</td>\n",
       "      <td>1.7455</td>\n",
       "      <td>5</td>\n",
       "      <td>403</td>\n",
       "      <td>14.7</td>\n",
       "      <td>88.01</td>\n",
       "      <td>15.02</td>\n",
       "    </tr>\n",
       "    <tr>\n",
       "      <th>423</th>\n",
       "      <td>7.05042</td>\n",
       "      <td>0.0</td>\n",
       "      <td>18.10</td>\n",
       "      <td>0</td>\n",
       "      <td>0.614</td>\n",
       "      <td>85.1</td>\n",
       "      <td>2.0218</td>\n",
       "      <td>24</td>\n",
       "      <td>666</td>\n",
       "      <td>20.2</td>\n",
       "      <td>2.52</td>\n",
       "      <td>23.29</td>\n",
       "    </tr>\n",
       "    <tr>\n",
       "      <th>98</th>\n",
       "      <td>0.08187</td>\n",
       "      <td>0.0</td>\n",
       "      <td>2.89</td>\n",
       "      <td>0</td>\n",
       "      <td>0.445</td>\n",
       "      <td>36.9</td>\n",
       "      <td>3.4952</td>\n",
       "      <td>2</td>\n",
       "      <td>276</td>\n",
       "      <td>18.0</td>\n",
       "      <td>393.53</td>\n",
       "      <td>3.57</td>\n",
       "    </tr>\n",
       "    <tr>\n",
       "      <th>455</th>\n",
       "      <td>4.75237</td>\n",
       "      <td>0.0</td>\n",
       "      <td>18.10</td>\n",
       "      <td>0</td>\n",
       "      <td>0.713</td>\n",
       "      <td>86.5</td>\n",
       "      <td>2.4358</td>\n",
       "      <td>24</td>\n",
       "      <td>666</td>\n",
       "      <td>20.2</td>\n",
       "      <td>50.92</td>\n",
       "      <td>18.13</td>\n",
       "    </tr>\n",
       "    <tr>\n",
       "      <th>216</th>\n",
       "      <td>0.04560</td>\n",
       "      <td>0.0</td>\n",
       "      <td>13.89</td>\n",
       "      <td>1</td>\n",
       "      <td>0.550</td>\n",
       "      <td>56.0</td>\n",
       "      <td>3.1121</td>\n",
       "      <td>5</td>\n",
       "      <td>276</td>\n",
       "      <td>16.4</td>\n",
       "      <td>392.80</td>\n",
       "      <td>13.51</td>\n",
       "    </tr>\n",
       "  </tbody>\n",
       "</table>\n",
       "<p>404 rows × 12 columns</p>\n",
       "</div>"
      ],
      "text/plain": [
       "        CRIM    ZN  INDUS  CHAS    NOX   AGE     DIS  RAD  TAX  PTRATIO  \\\n",
       "254  0.04819  80.0   3.64     0  0.392  32.0  9.2203    1  315     16.4   \n",
       "348  0.01501  80.0   2.01     0  0.435  29.7  8.3440    4  280     17.0   \n",
       "476  4.87141   0.0  18.10     0  0.614  93.6  2.3053   24  666     20.2   \n",
       "321  0.18159   0.0   7.38     0  0.493  54.3  4.5404    5  287     19.6   \n",
       "326  0.30347   0.0   7.38     0  0.493  28.9  5.4159    5  287     19.6   \n",
       "..       ...   ...    ...   ...    ...   ...     ...  ...  ...      ...   \n",
       "155  3.53501   0.0  19.58     1  0.871  82.6  1.7455    5  403     14.7   \n",
       "423  7.05042   0.0  18.10     0  0.614  85.1  2.0218   24  666     20.2   \n",
       "98   0.08187   0.0   2.89     0  0.445  36.9  3.4952    2  276     18.0   \n",
       "455  4.75237   0.0  18.10     0  0.713  86.5  2.4358   24  666     20.2   \n",
       "216  0.04560   0.0  13.89     1  0.550  56.0  3.1121    5  276     16.4   \n",
       "\n",
       "          B  LSTAT  \n",
       "254  392.89   6.57  \n",
       "348  390.94   5.99  \n",
       "476  396.21  18.68  \n",
       "321  396.90   6.87  \n",
       "326  396.90   6.15  \n",
       "..      ...    ...  \n",
       "155   88.01  15.02  \n",
       "423    2.52  23.29  \n",
       "98   393.53   3.57  \n",
       "455   50.92  18.13  \n",
       "216  392.80  13.51  \n",
       "\n",
       "[404 rows x 12 columns]"
      ]
     },
     "execution_count": 36,
     "metadata": {},
     "output_type": "execute_result"
    }
   ],
   "source": [
    "housing.drop(\"RM\",axis =1) #option2"
   ]
  },
  {
   "cell_type": "code",
   "execution_count": 37,
   "metadata": {},
   "outputs": [
    {
     "data": {
      "text/plain": [
       "6.209"
      ]
     },
     "execution_count": 37,
     "metadata": {},
     "output_type": "execute_result"
    }
   ],
   "source": [
    "median = housing[\"RM\"].median() # Compute median for Option 3\n",
    "median\n"
   ]
  },
  {
   "cell_type": "code",
   "execution_count": 38,
   "metadata": {},
   "outputs": [
    {
     "data": {
      "text/plain": [
       "254    6.108\n",
       "348    6.635\n",
       "476    6.484\n",
       "321    6.376\n",
       "326    6.312\n",
       "       ...  \n",
       "155    6.152\n",
       "423    6.103\n",
       "98     7.820\n",
       "455    6.525\n",
       "216    5.888\n",
       "Name: RM, Length: 404, dtype: float64"
      ]
     },
     "execution_count": 38,
     "metadata": {},
     "output_type": "execute_result"
    }
   ],
   "source": [
    "housing[\"RM\"].fillna(median)"
   ]
  },
  {
   "cell_type": "code",
   "execution_count": 39,
   "metadata": {},
   "outputs": [
    {
     "data": {
      "text/plain": [
       "(404, 13)"
      ]
     },
     "execution_count": 39,
     "metadata": {},
     "output_type": "execute_result"
    }
   ],
   "source": [
    "housing.shape"
   ]
  },
  {
   "cell_type": "markdown",
   "metadata": {},
   "source": [
    "## The SimpleImputer class provides basic strategies for imputing missing values."
   ]
  },
  {
   "cell_type": "code",
   "execution_count": 40,
   "metadata": {},
   "outputs": [
    {
     "data": {
      "text/plain": [
       "SimpleImputer(add_indicator=False, copy=True, fill_value=None,\n",
       "              missing_values=nan, strategy='median', verbose=0)"
      ]
     },
     "execution_count": 40,
     "metadata": {},
     "output_type": "execute_result"
    }
   ],
   "source": [
    "from sklearn.impute import SimpleImputer\n",
    "imputer = SimpleImputer(strategy = \"median\")\n",
    "imputer.fit(housing)    "
   ]
  },
  {
   "cell_type": "code",
   "execution_count": 41,
   "metadata": {},
   "outputs": [
    {
     "data": {
      "text/plain": [
       "array([2.86735e-01, 0.00000e+00, 9.90000e+00, 0.00000e+00, 5.38000e-01,\n",
       "       6.20900e+00, 7.82000e+01, 3.12220e+00, 5.00000e+00, 3.37000e+02,\n",
       "       1.90000e+01, 3.90955e+02, 1.15700e+01])"
      ]
     },
     "execution_count": 41,
     "metadata": {},
     "output_type": "execute_result"
    }
   ],
   "source": [
    "imputer.statistics_"
   ]
  },
  {
   "cell_type": "code",
   "execution_count": 42,
   "metadata": {},
   "outputs": [
    {
     "data": {
      "text/plain": [
       "(13,)"
      ]
     },
     "execution_count": 42,
     "metadata": {},
     "output_type": "execute_result"
    }
   ],
   "source": [
    "imputer.statistics_.shape"
   ]
  },
  {
   "cell_type": "code",
   "execution_count": 43,
   "metadata": {},
   "outputs": [],
   "source": [
    " X = imputer.transform(housing)"
   ]
  },
  {
   "cell_type": "code",
   "execution_count": 44,
   "metadata": {},
   "outputs": [],
   "source": [
    "housing_tr = pd.DataFrame(X, columns=housing.columns)"
   ]
  },
  {
   "cell_type": "code",
   "execution_count": 45,
   "metadata": {
    "scrolled": false
   },
   "outputs": [
    {
     "data": {
      "text/html": [
       "<div>\n",
       "<style scoped>\n",
       "    .dataframe tbody tr th:only-of-type {\n",
       "        vertical-align: middle;\n",
       "    }\n",
       "\n",
       "    .dataframe tbody tr th {\n",
       "        vertical-align: top;\n",
       "    }\n",
       "\n",
       "    .dataframe thead th {\n",
       "        text-align: right;\n",
       "    }\n",
       "</style>\n",
       "<table border=\"1\" class=\"dataframe\">\n",
       "  <thead>\n",
       "    <tr style=\"text-align: right;\">\n",
       "      <th></th>\n",
       "      <th>CRIM</th>\n",
       "      <th>ZN</th>\n",
       "      <th>INDUS</th>\n",
       "      <th>CHAS</th>\n",
       "      <th>NOX</th>\n",
       "      <th>RM</th>\n",
       "      <th>AGE</th>\n",
       "      <th>DIS</th>\n",
       "      <th>RAD</th>\n",
       "      <th>TAX</th>\n",
       "      <th>PTRATIO</th>\n",
       "      <th>B</th>\n",
       "      <th>LSTAT</th>\n",
       "    </tr>\n",
       "  </thead>\n",
       "  <tbody>\n",
       "    <tr>\n",
       "      <th>count</th>\n",
       "      <td>404.000000</td>\n",
       "      <td>404.000000</td>\n",
       "      <td>404.000000</td>\n",
       "      <td>404.000000</td>\n",
       "      <td>404.000000</td>\n",
       "      <td>404.000000</td>\n",
       "      <td>404.000000</td>\n",
       "      <td>404.000000</td>\n",
       "      <td>404.000000</td>\n",
       "      <td>404.000000</td>\n",
       "      <td>404.000000</td>\n",
       "      <td>404.000000</td>\n",
       "      <td>404.000000</td>\n",
       "    </tr>\n",
       "    <tr>\n",
       "      <th>mean</th>\n",
       "      <td>3.602814</td>\n",
       "      <td>10.836634</td>\n",
       "      <td>11.344950</td>\n",
       "      <td>0.069307</td>\n",
       "      <td>0.558064</td>\n",
       "      <td>6.274136</td>\n",
       "      <td>69.039851</td>\n",
       "      <td>3.746210</td>\n",
       "      <td>9.735149</td>\n",
       "      <td>412.341584</td>\n",
       "      <td>18.473267</td>\n",
       "      <td>353.392822</td>\n",
       "      <td>12.791609</td>\n",
       "    </tr>\n",
       "    <tr>\n",
       "      <th>std</th>\n",
       "      <td>8.099383</td>\n",
       "      <td>22.150636</td>\n",
       "      <td>6.877817</td>\n",
       "      <td>0.254290</td>\n",
       "      <td>0.116875</td>\n",
       "      <td>0.707127</td>\n",
       "      <td>28.258248</td>\n",
       "      <td>2.099057</td>\n",
       "      <td>8.731259</td>\n",
       "      <td>168.672623</td>\n",
       "      <td>2.129243</td>\n",
       "      <td>96.069235</td>\n",
       "      <td>7.235740</td>\n",
       "    </tr>\n",
       "    <tr>\n",
       "      <th>min</th>\n",
       "      <td>0.006320</td>\n",
       "      <td>0.000000</td>\n",
       "      <td>0.740000</td>\n",
       "      <td>0.000000</td>\n",
       "      <td>0.389000</td>\n",
       "      <td>3.561000</td>\n",
       "      <td>2.900000</td>\n",
       "      <td>1.129600</td>\n",
       "      <td>1.000000</td>\n",
       "      <td>187.000000</td>\n",
       "      <td>13.000000</td>\n",
       "      <td>0.320000</td>\n",
       "      <td>1.730000</td>\n",
       "    </tr>\n",
       "    <tr>\n",
       "      <th>25%</th>\n",
       "      <td>0.086963</td>\n",
       "      <td>0.000000</td>\n",
       "      <td>5.190000</td>\n",
       "      <td>0.000000</td>\n",
       "      <td>0.453000</td>\n",
       "      <td>5.878750</td>\n",
       "      <td>44.850000</td>\n",
       "      <td>2.035975</td>\n",
       "      <td>4.000000</td>\n",
       "      <td>284.000000</td>\n",
       "      <td>17.400000</td>\n",
       "      <td>374.617500</td>\n",
       "      <td>6.847500</td>\n",
       "    </tr>\n",
       "    <tr>\n",
       "      <th>50%</th>\n",
       "      <td>0.286735</td>\n",
       "      <td>0.000000</td>\n",
       "      <td>9.900000</td>\n",
       "      <td>0.000000</td>\n",
       "      <td>0.538000</td>\n",
       "      <td>6.209000</td>\n",
       "      <td>78.200000</td>\n",
       "      <td>3.122200</td>\n",
       "      <td>5.000000</td>\n",
       "      <td>337.000000</td>\n",
       "      <td>19.000000</td>\n",
       "      <td>390.955000</td>\n",
       "      <td>11.570000</td>\n",
       "    </tr>\n",
       "    <tr>\n",
       "      <th>75%</th>\n",
       "      <td>3.731923</td>\n",
       "      <td>12.500000</td>\n",
       "      <td>18.100000</td>\n",
       "      <td>0.000000</td>\n",
       "      <td>0.631000</td>\n",
       "      <td>6.629250</td>\n",
       "      <td>94.100000</td>\n",
       "      <td>5.100400</td>\n",
       "      <td>24.000000</td>\n",
       "      <td>666.000000</td>\n",
       "      <td>20.200000</td>\n",
       "      <td>395.630000</td>\n",
       "      <td>17.102500</td>\n",
       "    </tr>\n",
       "    <tr>\n",
       "      <th>max</th>\n",
       "      <td>73.534100</td>\n",
       "      <td>100.000000</td>\n",
       "      <td>27.740000</td>\n",
       "      <td>1.000000</td>\n",
       "      <td>0.871000</td>\n",
       "      <td>8.780000</td>\n",
       "      <td>100.000000</td>\n",
       "      <td>12.126500</td>\n",
       "      <td>24.000000</td>\n",
       "      <td>711.000000</td>\n",
       "      <td>22.000000</td>\n",
       "      <td>396.900000</td>\n",
       "      <td>36.980000</td>\n",
       "    </tr>\n",
       "  </tbody>\n",
       "</table>\n",
       "</div>"
      ],
      "text/plain": [
       "             CRIM          ZN       INDUS        CHAS         NOX          RM  \\\n",
       "count  404.000000  404.000000  404.000000  404.000000  404.000000  404.000000   \n",
       "mean     3.602814   10.836634   11.344950    0.069307    0.558064    6.274136   \n",
       "std      8.099383   22.150636    6.877817    0.254290    0.116875    0.707127   \n",
       "min      0.006320    0.000000    0.740000    0.000000    0.389000    3.561000   \n",
       "25%      0.086963    0.000000    5.190000    0.000000    0.453000    5.878750   \n",
       "50%      0.286735    0.000000    9.900000    0.000000    0.538000    6.209000   \n",
       "75%      3.731923   12.500000   18.100000    0.000000    0.631000    6.629250   \n",
       "max     73.534100  100.000000   27.740000    1.000000    0.871000    8.780000   \n",
       "\n",
       "              AGE         DIS         RAD         TAX     PTRATIO           B  \\\n",
       "count  404.000000  404.000000  404.000000  404.000000  404.000000  404.000000   \n",
       "mean    69.039851    3.746210    9.735149  412.341584   18.473267  353.392822   \n",
       "std     28.258248    2.099057    8.731259  168.672623    2.129243   96.069235   \n",
       "min      2.900000    1.129600    1.000000  187.000000   13.000000    0.320000   \n",
       "25%     44.850000    2.035975    4.000000  284.000000   17.400000  374.617500   \n",
       "50%     78.200000    3.122200    5.000000  337.000000   19.000000  390.955000   \n",
       "75%     94.100000    5.100400   24.000000  666.000000   20.200000  395.630000   \n",
       "max    100.000000   12.126500   24.000000  711.000000   22.000000  396.900000   \n",
       "\n",
       "            LSTAT  \n",
       "count  404.000000  \n",
       "mean    12.791609  \n",
       "std      7.235740  \n",
       "min      1.730000  \n",
       "25%      6.847500  \n",
       "50%     11.570000  \n",
       "75%     17.102500  \n",
       "max     36.980000  "
      ]
     },
     "execution_count": 45,
     "metadata": {},
     "output_type": "execute_result"
    }
   ],
   "source": [
    "housing_tr.describe()"
   ]
  },
  {
   "cell_type": "markdown",
   "metadata": {},
   "source": [
    "## Scikit - Learn Design"
   ]
  },
  {
   "cell_type": "markdown",
   "metadata": {},
   "source": [
    "Three types of objects:\n",
    "1. Estimators - Estimates some parameter, based on a dataset.Eg: imputer, it has a fit method and a transform method.\n",
    "   Fit Method - Fits the dataset and calculates internal parameters.\n",
    "   \n",
    "2. Transformers - transform method takes input and returns output based on the learnings from fit().\n",
    "   It also has a convenience function called fit_transform(), which fits and then transforms.\n",
    "   \n",
    "3. Predictors - Linear Regression model is an example of predictor. fit() and predict() are two common functions.\n",
    "   It also gives score function which will evaluate the predictions."
   ]
  },
  {
   "cell_type": "markdown",
   "metadata": {},
   "source": [
    "## Feature Scaling"
   ]
  },
  {
   "cell_type": "markdown",
   "metadata": {},
   "source": [
    "Primarily two types of feature scaling methods.\n",
    "1. Min-max scaling (Normalization).\n",
    "   (value - min) / (max - min)\n",
    "   sklearn provides a class called MinMaxScaler for this.\n",
    "   \n",
    "2. Standardization.\n",
    "   (value - mean) / std\n",
    "   sklearn provides a class called StandardScaler for this.\n"
   ]
  },
  {
   "cell_type": "markdown",
   "metadata": {},
   "source": [
    "## Creating a Pipeline"
   ]
  },
  {
   "cell_type": "code",
   "execution_count": 46,
   "metadata": {},
   "outputs": [],
   "source": [
    "from sklearn.pipeline import Pipeline\n",
    "from sklearn.preprocessing import StandardScaler\n",
    "my_pipeline = Pipeline([\n",
    "    ('imputer', SimpleImputer(strategy = \"median\")),\n",
    "                         ('std_scaler', StandardScaler())\n",
    "                       ])"
   ]
  },
  {
   "cell_type": "markdown",
   "metadata": {},
   "source": [
    "##  Pipelines work by allowing for a linear sequence of data transforms to be chained together."
   ]
  },
  {
   "cell_type": "code",
   "execution_count": 47,
   "metadata": {},
   "outputs": [],
   "source": [
    "housing_num_tr = my_pipeline.fit_transform(housing)"
   ]
  },
  {
   "cell_type": "code",
   "execution_count": 48,
   "metadata": {},
   "outputs": [
    {
     "data": {
      "text/plain": [
       "array([[-0.43942006,  3.12628155, -1.12165014, ..., -0.97491834,\n",
       "         0.41164221, -0.86091034],\n",
       "       [-0.44352175,  3.12628155, -1.35893781, ..., -0.69277865,\n",
       "         0.39131918, -0.94116739],\n",
       "       [ 0.15682292, -0.4898311 ,  0.98336806, ...,  0.81196637,\n",
       "         0.44624347,  0.81480158],\n",
       "       ...,\n",
       "       [-0.43525657, -0.4898311 , -1.23083158, ..., -0.22254583,\n",
       "         0.41831233, -1.27603303],\n",
       "       [ 0.14210728, -0.4898311 ,  0.98336806, ...,  0.81196637,\n",
       "        -3.15239177,  0.73869575],\n",
       "       [-0.43974024, -0.4898311 ,  0.37049623, ..., -0.97491834,\n",
       "         0.41070422,  0.09940681]])"
      ]
     },
     "execution_count": 48,
     "metadata": {},
     "output_type": "execute_result"
    }
   ],
   "source": [
    "housing_num_tr"
   ]
  },
  {
   "cell_type": "code",
   "execution_count": 49,
   "metadata": {},
   "outputs": [
    {
     "data": {
      "text/plain": [
       "(404, 13)"
      ]
     },
     "execution_count": 49,
     "metadata": {},
     "output_type": "execute_result"
    }
   ],
   "source": [
    "housing_num_tr.shape"
   ]
  },
  {
   "cell_type": "markdown",
   "metadata": {},
   "source": [
    "## Selecting the desired model for Real Estate"
   ]
  },
  {
   "cell_type": "code",
   "execution_count": 50,
   "metadata": {},
   "outputs": [
    {
     "data": {
      "text/plain": [
       "RandomForestRegressor(bootstrap=True, ccp_alpha=0.0, criterion='mse',\n",
       "                      max_depth=None, max_features='auto', max_leaf_nodes=None,\n",
       "                      max_samples=None, min_impurity_decrease=0.0,\n",
       "                      min_impurity_split=None, min_samples_leaf=1,\n",
       "                      min_samples_split=2, min_weight_fraction_leaf=0.0,\n",
       "                      n_estimators=100, n_jobs=None, oob_score=False,\n",
       "                      random_state=None, verbose=0, warm_start=False)"
      ]
     },
     "execution_count": 50,
     "metadata": {},
     "output_type": "execute_result"
    }
   ],
   "source": [
    "from sklearn.linear_model import LinearRegression\n",
    "\n",
    "from sklearn.tree import DecisionTreeRegressor\n",
    "\n",
    "from sklearn.ensemble import RandomForestRegressor\n",
    "model = RandomForestRegressor()\n",
    "#model = LinearRegression()\n",
    "#model = DecisionTreeRegressor()\n",
    "model.fit(housing_num_tr, housing_labels)"
   ]
  },
  {
   "cell_type": "code",
   "execution_count": 51,
   "metadata": {},
   "outputs": [],
   "source": [
    "some_data = housing.iloc[:5]\n"
   ]
  },
  {
   "cell_type": "code",
   "execution_count": 52,
   "metadata": {},
   "outputs": [],
   "source": [
    "some_labels = housing_labels.iloc[:5]"
   ]
  },
  {
   "cell_type": "code",
   "execution_count": 53,
   "metadata": {},
   "outputs": [],
   "source": [
    "prepared_data = my_pipeline.transform(some_data)"
   ]
  },
  {
   "cell_type": "code",
   "execution_count": 54,
   "metadata": {},
   "outputs": [
    {
     "data": {
      "text/plain": [
       "array([22.522, 25.395, 16.459, 23.337, 23.439])"
      ]
     },
     "execution_count": 54,
     "metadata": {},
     "output_type": "execute_result"
    }
   ],
   "source": [
    "model.predict(prepared_data)"
   ]
  },
  {
   "cell_type": "code",
   "execution_count": 55,
   "metadata": {},
   "outputs": [
    {
     "data": {
      "text/plain": [
       "254    21.9\n",
       "348    24.5\n",
       "476    16.7\n",
       "321    23.1\n",
       "326    23.0\n",
       "Name: MEDV, dtype: float64"
      ]
     },
     "execution_count": 55,
     "metadata": {},
     "output_type": "execute_result"
    }
   ],
   "source": [
    "some_labels"
   ]
  },
  {
   "cell_type": "code",
   "execution_count": 56,
   "metadata": {},
   "outputs": [
    {
     "data": {
      "text/plain": [
       "[21.9, 24.5, 16.7, 23.1, 23.0]"
      ]
     },
     "execution_count": 56,
     "metadata": {},
     "output_type": "execute_result"
    }
   ],
   "source": [
    "list(some_labels)"
   ]
  },
  {
   "cell_type": "markdown",
   "metadata": {},
   "source": [
    "## Evaluating The model"
   ]
  },
  {
   "cell_type": "code",
   "execution_count": 57,
   "metadata": {},
   "outputs": [],
   "source": [
    "from sklearn.metrics import mean_squared_error\n",
    "housing_predictions = model.predict(housing_num_tr)\n",
    "lin_mse = mean_squared_error(housing_labels, housing_predictions)\n",
    "lin_mse = np.sqrt(lin_mse)"
   ]
  },
  {
   "cell_type": "code",
   "execution_count": 58,
   "metadata": {},
   "outputs": [
    {
     "data": {
      "text/plain": [
       "1.1660445780161208"
      ]
     },
     "execution_count": 58,
     "metadata": {},
     "output_type": "execute_result"
    }
   ],
   "source": [
    "lin_mse"
   ]
  },
  {
   "cell_type": "markdown",
   "metadata": {},
   "source": [
    "## Using better evaluation technique - Cross Validation"
   ]
  },
  {
   "cell_type": "code",
   "execution_count": 59,
   "metadata": {},
   "outputs": [],
   "source": [
    "from sklearn.model_selection import cross_val_score\n",
    "scores = cross_val_score(model, housing_num_tr, housing_labels, scoring = \"neg_mean_squared_error\", cv=10)\n",
    "rmse_scores = np.sqrt(-scores)"
   ]
  },
  {
   "cell_type": "code",
   "execution_count": 60,
   "metadata": {},
   "outputs": [
    {
     "data": {
      "text/plain": [
       "array([2.88507376, 2.74097811, 4.57723182, 2.47527358, 3.33934616,\n",
       "       2.72792777, 4.5743075 , 3.2093928 , 3.23389901, 3.2983015 ])"
      ]
     },
     "execution_count": 60,
     "metadata": {},
     "output_type": "execute_result"
    }
   ],
   "source": [
    "rmse_scores"
   ]
  },
  {
   "cell_type": "code",
   "execution_count": 1,
   "metadata": {},
   "outputs": [],
   "source": [
    "def print_scores(scores):\n",
    "    print(\"Scores :\" , scores)\n",
    "    print(\"Mean : \", scores.mean())\n",
    "    print(\"Standard deviation: \", scores.std())\n",
    "    "
   ]
  },
  {
   "cell_type": "code",
   "execution_count": 62,
   "metadata": {},
   "outputs": [
    {
     "name": "stdout",
     "output_type": "stream",
     "text": [
      "Scores : [2.88507376 2.74097811 4.57723182 2.47527358 3.33934616 2.72792777\n",
      " 4.5743075  3.2093928  3.23389901 3.2983015 ]\n",
      "Mean :  3.306173201531494\n",
      "Standard deviation:  0.6900028433217233\n"
     ]
    }
   ],
   "source": [
    "print_scores(rmse_scores)"
   ]
  },
  {
   "cell_type": "markdown",
   "metadata": {},
   "source": [
    "Quiz: Convert this notebook into a python file and run the pipeline using Visual Studio Code"
   ]
  },
  {
   "cell_type": "markdown",
   "metadata": {},
   "source": [
    "## Saving the model"
   ]
  },
  {
   "cell_type": "code",
   "execution_count": 63,
   "metadata": {},
   "outputs": [
    {
     "data": {
      "text/plain": [
       "['realestate.joblib']"
      ]
     },
     "execution_count": 63,
     "metadata": {},
     "output_type": "execute_result"
    }
   ],
   "source": [
    "from joblib import dump, load\n",
    "dump(model, 'realestate.joblib')"
   ]
  },
  {
   "cell_type": "markdown",
   "metadata": {},
   "source": [
    "## Testing the model on test data"
   ]
  },
  {
   "cell_type": "code",
   "execution_count": 64,
   "metadata": {},
   "outputs": [
    {
     "name": "stdout",
     "output_type": "stream",
     "text": [
      "[24.359 11.39  25.53  21.81  18.324 14.934 19.816 14.812 31.587 40.595\n",
      " 19.772 11.695 24.693 27.135 19.468 10.716 32.088 14.602 23.663 18.839\n",
      " 19.867 18.137 16.288 21.902 18.321 31.03  16.279 33.005  8.794 33.664\n",
      " 23.934 21.141 23.041 10.743 20.834 11.335 42.684 24.578 23.522 41.841\n",
      " 23.955 29.633 20.293 20.855 19.243 33.597 46.615 19.949 20.278 21.727\n",
      " 20.849 14.757 21.029 15.125 24.825 33.027 44.77  28.847 19.202 20.755\n",
      " 46.79   9.994 18.525 24.639 15.043 33.106 19.441 18.125 19.268 34.172\n",
      " 28.332 23.046 21.265 22.484 34.841 12.495 15.672 19.868 20.831 21.184\n",
      " 22.405 21.352 14.091 22.982 20.812 21.196 14.055 21.68  21.979 23.159\n",
      " 18.682 27.112  7.158 26.202 18.604 29.902 19.739 31.324 14.471 26.836\n",
      " 20.963 20.418] [16.5, 10.2, 30.1, 23.0, 14.4, 15.6, 19.4, 14.1, 30.3, 35.2, 23.1, 13.8, 25.0, 27.9, 19.5, 12.3, 32.2, 13.5, 23.8, 21.7, 19.2, 19.5, 10.4, 23.2, 18.6, 28.5, 15.2, 32.0, 7.2, 34.6, 20.1, 20.6, 23.6, 13.1, 23.8, 12.7, 43.1, 24.7, 22.2, 44.0, 28.1, 31.0, 21.7, 23.4, 19.5, 33.1, 41.7, 18.7, 19.9, 20.6, 21.2, 13.6, 20.3, 17.8, 27.1, 31.5, 50.0, 29.1, 18.9, 20.4, 50.0, 7.2, 17.2, 36.2, 14.6, 33.2, 23.8, 19.9, 21.5, 37.3, 27.0, 22.0, 24.3, 19.8, 33.3, 7.0, 19.4, 20.9, 21.1, 20.4, 22.2, 11.9, 11.7, 21.6, 19.7, 23.0, 16.7, 21.7, 20.6, 23.3, 19.6, 28.0, 5.0, 24.4, 20.8, 24.8, 21.8, 23.6, 19.0, 25.0, 20.3, 21.5]\n"
     ]
    }
   ],
   "source": [
    "X_test = strat_test_set.drop(\"MEDV\", axis =1)\n",
    "Y_test = strat_test_set[\"MEDV\"].copy()\n",
    "X_test_prepared = my_pipeline.transform(X_test)\n",
    "final_predictions = model.predict(X_test_prepared)\n",
    "final_mse = mean_squared_error(Y_test, final_predictions)\n",
    "final_rmse = np.sqrt(final_mse)\n",
    "print(final_predictions, list(Y_test))"
   ]
  },
  {
   "cell_type": "code",
   "execution_count": 65,
   "metadata": {},
   "outputs": [
    {
     "data": {
      "text/plain": [
       "2.882216358508657"
      ]
     },
     "execution_count": 65,
     "metadata": {},
     "output_type": "execute_result"
    }
   ],
   "source": [
    "final_rmse"
   ]
  },
  {
   "cell_type": "code",
   "execution_count": 66,
   "metadata": {},
   "outputs": [
    {
     "data": {
      "text/plain": [
       "array([-0.43942006,  3.12628155, -1.12165014, -0.27288841, -1.42262747,\n",
       "       -0.23523658, -1.31238772,  2.61111401, -1.0016859 , -0.5778192 ,\n",
       "       -0.97491834,  0.41164221, -0.86091034])"
      ]
     },
     "execution_count": 66,
     "metadata": {},
     "output_type": "execute_result"
    }
   ],
   "source": [
    "prepared_data[0]"
   ]
  },
  {
   "cell_type": "markdown",
   "metadata": {},
   "source": [
    "## Using the model"
   ]
  },
  {
   "cell_type": "code",
   "execution_count": 67,
   "metadata": {},
   "outputs": [
    {
     "data": {
      "text/plain": [
       "array([22.522])"
      ]
     },
     "execution_count": 67,
     "metadata": {},
     "output_type": "execute_result"
    }
   ],
   "source": [
    "from joblib import dump, load\n",
    "import numpy as np\n",
    "model = load('realestate.joblib')\n",
    "features = np.array([[-0.43942006,  3.12628155, -1.12165014, -0.27288841, -1.42262747,\n",
    "       -0.23523658, -1.31238772,  2.61111401, -1.0016859 , -0.5778192 ,\n",
    "       -0.97491834,  0.41164221, -0.86091034]])\n",
    "model.predict(features)"
   ]
  },
  {
   "cell_type": "code",
   "execution_count": null,
   "metadata": {},
   "outputs": [],
   "source": []
  }
 ],
 "metadata": {
  "kernelspec": {
   "display_name": "Python 3",
   "language": "python",
   "name": "python3"
  },
  "language_info": {
   "codemirror_mode": {
    "name": "ipython",
    "version": 3
   },
   "file_extension": ".py",
   "mimetype": "text/x-python",
   "name": "python",
   "nbconvert_exporter": "python",
   "pygments_lexer": "ipython3",
   "version": "3.7.4"
  }
 },
 "nbformat": 4,
 "nbformat_minor": 2
}
